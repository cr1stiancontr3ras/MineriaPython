{
 "cells": [
  {
   "cell_type": "code",
   "execution_count": 200,
   "id": "d78b16c4",
   "metadata": {},
   "outputs": [
    {
     "name": "stdout",
     "output_type": "stream",
     "text": [
      "Ingresa los grados Farenheita convertir: 2\n"
     ]
    },
    {
     "data": {
      "text/plain": [
       "-16.666666666666668"
      ]
     },
     "execution_count": 200,
     "metadata": {},
     "output_type": "execute_result"
    }
   ],
   "source": [
    "#### EJECICIO 1 ####\n",
    "# Cree una función que transforme grados Fahrenheit a grados centígrados.\n",
    "\n",
    "def fac(x): # Insumo(Temperatura en Farenheit).\n",
    "    \"\"\"\n",
    "    Esta función convierte una temperatua x \n",
    "    en grados Farenheit a grados celcius.\n",
    "    \"\"\"\n",
    "    c = (x-32)/1.8 # conversión a grados celcius.\n",
    "    return(c) # Salida.\n",
    "fac(int(input(\"Ingresa los grados Farenheita convertir: \")))"
   ]
  },
  {
   "cell_type": "code",
   "execution_count": 391,
   "id": "073cc563",
   "metadata": {},
   "outputs": [
    {
     "name": "stdout",
     "output_type": "stream",
     "text": [
      "Hola, acontinuación ingresa tu contraseña: hol\n",
      "Recuerda que mínimo debe incluir por lo menos:\n",
      "Una mayúscula.\n",
      "Un número.\n",
      "Alguno de los siguientes caracteres *, _ , !, $, % .\n"
     ]
    }
   ],
   "source": [
    "#### EJERCICIO 2 ####\n",
    "# Escribir un programa que almacene la cadena de caracteres contraseña en una variable,\n",
    "# pregunte al usuario por la contraseña e imprima por pantalla si el valor es correcto o no en función\n",
    "# de los siguientes aspectos:\n",
    "# 1. Falta al menos un carácter numérico\n",
    "# 2. Falta al menos uno de los siguientes carácter especiales : *, _ , !, $, %\n",
    "# 3. Falta al menos una mayúscula\n",
    "\n",
    "def val_contr(y):\n",
    "    \"\"\"\n",
    "    Esta función toma como argumento la contraseña\n",
    "    ingresada y valida las condiciones anteriores para \n",
    "    cada dígito que posee. \n",
    "    \"\"\"\n",
    "    m = sum(list(map(lambda x: x.isupper(),y))) # Valida el número de elementos de la lista que son mayúsculas.\n",
    "    n = sum(list(map(lambda x: x.isdigit(),y))) # # Valida el número de elementos de la lista que son dígitos.\n",
    "    s=  0\n",
    "    for i in range(len(y)):\n",
    "        if y[i]=='*' or y[i]=='_' or y[i]=='!' or y[i]=='$'  or y[i]=='%': # Valida si hay alguno de los caracteres requeridos.\n",
    "            s += 1\n",
    "    if m==0 or n==0 or s==0:\n",
    "        print(\"Recuerda que mínimo debe incluir por lo menos:\\nUna mayúscula.\\nUn número.\\nAlguno de los siguientes caracteres *, _ , !, $, % .\")\n",
    "    else:\n",
    "        print(\"Has ingresado una contraseña válida al programa. \")\n",
    "            \n",
    "val_contr(list(input(\"Hola, acontinuación ingresa tu contraseña: \")))"
   ]
  },
  {
   "cell_type": "code",
   "execution_count": 2,
   "id": "192b0b9e",
   "metadata": {
    "scrolled": true
   },
   "outputs": [],
   "source": [
    "#### EJERCICIO 3 ####\n",
    "# Ejemplo de Salida:\n",
    "# • Combinación de libros 1: Libro 1, 4 y 6.\n",
    "# • Combinación de libros 2: Libro 2, 3, 5.\n",
    "# • Total de dinero ahorrado: “Total de libros” – “Descuento de promoción”. \n",
    "\n",
    "libros = {'1':50000,'2':30000,'3':80000,\n",
    "          '4':20000,'5':100000,'6':40000} # Diccionario de Libro-Precios\n",
    "\n",
    "# Funciones para hacer las combintorias:\n",
    "def potencia(c):\n",
    "    \"\"\"Calcula y devuelve el conjunto potencia del \n",
    "       conjunto c.\n",
    "    \"\"\"\n",
    "    if len(c) == 0:\n",
    "        return [[]]\n",
    "    r = potencia(c[:-1])\n",
    "    return r + [s + [c[-1]] for s in r]\n",
    "\n",
    "def combinaciones(c, n):\n",
    "    \"\"\"Calcula y devuelve una lista con todas las\n",
    "       combinaciones posibles que se pueden hacer\n",
    "       con los elementos contenidos en c tomando n\n",
    "       elementos a la vez.\n",
    "    \"\"\"\n",
    "    return [s for s in potencia(c) if len(s) == n]\n",
    "\n",
    "## Lista de combinatorias.\n",
    "com = combinaciones(list(libros.keys()),3) ## Combianciones de los 3 libros a comprar.\n",
    "\n",
    "## Búsqueda de precios en el diccionario. ##\n",
    "combinacion =[]\n",
    "for i in range(len(com)):# Pocisiones de las listas de combinaciones.\n",
    "    combinacion.append([]) \n",
    "    for j in range(len(com[i])): # Pocisiones de las llaves dentro de las listas decombinaciones. \n",
    "        combinacion[i].append(libros[com[i][j]]) # Lista de listas de precios de los libros.\n",
    "# Suma del precio total de los libros por combinación.\n",
    "suma = list(map(lambda x: sum(x),combinacion))\n",
    "# Valor del menor libro a pagar dentro de cada combinación.\n",
    "menor =list(map(lambda x: min(x),combinacion))\n",
    "# vp = valor a pagar por todoa los libros, mv = libro de menor valor dentro de los 3. \n",
    "pagar = list(vp - mv for vp, mv in zip(suma,menor))"
   ]
  },
  {
   "cell_type": "code",
   "execution_count": 11,
   "id": "c83abd2d",
   "metadata": {
    "scrolled": true
   },
   "outputs": [
    {
     "name": "stdout",
     "output_type": "stream",
     "text": [
      "Collecting package metadata (current_repodata.json): ...working... done\n",
      "Solving environment: ...working... done\n",
      "\n",
      "# All requested packages already installed.\n",
      "\n",
      "Retrieving notices: ...working... done\n"
     ]
    }
   ],
   "source": [
    "## Data frame para determinar la mejor combinación de 6 diferentes libros. \n",
    "!conda install pandas"
   ]
  },
  {
   "cell_type": "code",
   "execution_count": 97,
   "id": "7c20cfd4",
   "metadata": {},
   "outputs": [
    {
     "name": "stdout",
     "output_type": "stream",
     "text": [
      "Las combinaciones de libros para la compra que maximizan el descuento son: \n",
      " Combinación 1: Libros 1 3 5 .\n",
      " Combinación 2: Libros 2 4 6 .\n",
      "El total de dinero que se paga es: 250000 pesos. \n",
      "La cantidad de dinero que se ahorra con esta combinación de libros es: 70000 pesos.\n"
     ]
    }
   ],
   "source": [
    "import pandas as pd\n",
    "df = pd.DataFrame()\n",
    "df['Fac_1'] = com      ## Combinación de libros 1.\n",
    "df['Fac_2'] = list(reversed(com)) ##Combianción de libros 2 (Complemento).\n",
    "df['T_Fac'] = list(i+j for(i,j)in zip(suma,reversed(suma))) ## Suma total del precio final de las 2 combianciones.\n",
    "df['Desc'] = list(i+j for(i,j)in zip(menor,reversed(menor))) ## Suma total del precio que se descuenta por los 2 libros de <  valor.\n",
    "df['T_P_Fac'] = list(i+j for(i,j)in zip(pagar,reversed(pagar))) ## Suma total delprecio que se debe pagar luego del descuento.\n",
    "\n",
    "## Combinación de la copra de libros en donde se ahorra la mayor cantidad de $. \n",
    "df2 = df[df['T_P_Fac']==df['T_P_Fac'].min()][0:1].copy().reset_index()\n",
    "print('Las combinaciones de libros para la compra que maximizan el descuento son: \\n Combinación 1: Libros',' '.join(df2['Fac_1'][0]),\n",
    "      '.\\n Combinación 2: Libros',' '.join(df2['Fac_2'][0]),'.\\nEl total de dinero que se paga es:',df2['T_P_Fac'][0],'pesos.',\n",
    "      '\\nLa cantidad de dinero que se ahorra con esta combinación de libros es:',df2['Desc'][0],'pesos.',sep=' ')"
   ]
  }
 ],
 "metadata": {
  "kernelspec": {
   "display_name": "Python 3 (ipykernel)",
   "language": "python",
   "name": "python3"
  },
  "language_info": {
   "codemirror_mode": {
    "name": "ipython",
    "version": 3
   },
   "file_extension": ".py",
   "mimetype": "text/x-python",
   "name": "python",
   "nbconvert_exporter": "python",
   "pygments_lexer": "ipython3",
   "version": "3.9.12"
  }
 },
 "nbformat": 4,
 "nbformat_minor": 5
}
