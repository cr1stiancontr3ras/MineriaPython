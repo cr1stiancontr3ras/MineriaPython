{
  "nbformat": 4,
  "nbformat_minor": 0,
  "metadata": {
    "colab": {
      "provenance": [],
      "collapsed_sections": [
        "QS26NjxtwfQu",
        "UE7LHce44xQe",
        "HG-4_QBn4oOE",
        "w-bTpLCADUG-",
        "ffZuH-OLDa-P"
      ]
    },
    "kernelspec": {
      "name": "python3",
      "display_name": "Python 3"
    },
    "language_info": {
      "name": "python"
    }
  },
  "cells": [
    {
      "cell_type": "markdown",
      "source": [
        "#Universidad Santo Tomás\n",
        "Cristian Andres Contreras Robayo \\\n",
        "CC 1007467469\\\n",
        "Cód 2261170\n",
        "\n",
        "La metodología empleada para el desarrollo del parcial es un algoritmo de clasificación para la base de datos de matemáticas. Ésta última está comúestas por las siguientes variables:\\\n",
        "\\\n",
        "1 escuela - escuela del estudiante (binario: \"GP\" - Gabriel Pereira o \"MS\" - Mousinho da Silveira)\\\n",
        "2 sexo - sexo del estudiante (binario: \"F\" - mujer o \"M\" - hombre)\\\n",
        "3 edad - edad del estudiante (numérica: de 15 a 22 años)\\\n",
        "4 dirección - tipo de domicilio del estudiante (binario: \"U\" - urbano o \"R\" - rural)\\\n",
        "5 famsize - tamaño de la familia (binario: \"LE3\" - menos o igual a 3 o \"GT3\" - más de 3)\\\n",
        "6 Pstatus - estado de cohabitación de los padres (binario: \"T\" - convivencia o \"A\" - separación)\\\n",
        "7 Medu - educación de la madre (numérico: 0 - ninguna, 1 - educación primaria (4º grado), 2 - 5º a 9º grado, 3 - educación secundaria o 4 - educación superior)\\\n",
        "8 Fedu - educación del padre (numérico: 0 - ninguna, 1 - educación primaria (4º grado), 2 - 5º a 9º grado, 3 - educación secundaria o 4 - educación superior)\\\n",
        "9 Mjob - trabajo de la madre (nominal: \"profesor\", \"sanitario\", \"servicios\" civiles (p. ej., administrativo o policía), \"en casa\" u \"otro\")\\\n",
        "10 Fjob - trabajo del padre (nominal: \"profesor\", \"sanitario\", \"servicios\" civiles (por ejemplo, administrativo o policía), \"en_casa\" u \"otro\")\\\n",
        "11 razón - razón para elegir esta escuela (nominal: cerca de \"casa\", \"reputación\" de la escuela, preferencia de \"curso\" u \"otro\")\\\n",
        "12 tutor - tutor del estudiante (nominal: \"madre\", \"padre\" u \"otro\")\\\n",
        "13 traveltime - tiempo de viaje de casa a la escuela (numérico: 1 - <15 min., 2 - 15 a 30 min., 3 - 30 min. a 1 hora, o 4 - >1 hora)\\\n",
        "14 tiempo de estudio - tiempo de estudio semanal (numérico: 1 - <2 horas, 2 - 2 a 5 horas, 3 - 5 a 10 horas, o 4 - >10 horas)\\\n",
        "15 fallas - número de fallas de clase anteriores (numérico: n si 1<=n<3, si no, 4)\\\n",
        "16 schoolsup - apoyo educativo adicional (binario: sí o no)\\\n",
        "17 famsup - apoyo educativo de la familia (binario: sí o no)\\N\n",
        "18 paid - clases extra pagadas dentro de la asignatura del curso (Matemáticas o Portugués) (binario: sí o no)\\\n",
        "19 actividades - actividades extraescolares (binario: sí o no)\\\n",
        "20 guardería - asistió a la guardería (binario: sí o no)\\\n",
        "21 superior - quiere cursar estudios superiores (binario: sí o no)\\\n",
        "22 internet - acceso a internet en casa (binario: sí o no)\\\n",
        "23 romántica - con una relación romántica (binario: sí o no)\\\n",
        "24 famrel - calidad de las relaciones familiares (numérico: de 1 - muy malo a 5 - excelente)\\\n",
        "25 freetime - tiempo libre después de la escuela (numérico: de 1 - muy bajo a 5 - muy alto)\\\n",
        "26 goout - salir con los amigos (numérico: de 1 - muy bajo a 5 - muy alto)\\\n",
        "27 Dalc - consumo de alcohol en el día de trabajo (numérico: de 1 - muy bajo a 5 - muy alto)\\\n",
        "28 Walc - consumo de alcohol durante el fin de semana (numérico: de 1 - muy bajo a 5 - muy alto)\\\n",
        "29 salud - estado de salud actual (numérico: de 1 - muy bajo a 5 - muy alto)\\\n",
        "30 ausencias - número de faltas de asistencia a la escuela (numérico: de 0 a 93)\\\n",
        "\n",
        "Estas calificaciones están relacionadas con la asignatura del curso, Matemáticas o Portugués:\\\n",
        "31 G1 - calificación del primer período (numérico: de 0 a 20)\\\n",
        "31 G2 - calificación del segundo período (numérico: de 0 a 20)\\\n",
        "32 G3 - nota final (numérico: de 0 a 20)\\\n",
        "\n",
        "Nota adicional: hay varios (382) estudiantes que pertenecen a ambos conjuntos de datos.\\\n",
        "Estos alumnos pueden identificarse buscando atributos idénticos\n",
        "que caracterizan a cada estudiante, como se muestra en el archivo R anexo."
      ],
      "metadata": {
        "id": "79IG1rICryHa"
      }
    },
    {
      "cell_type": "markdown",
      "source": [
        "## D"
      ],
      "metadata": {
        "id": "QS26NjxtwfQu"
      }
    },
    {
      "cell_type": "code",
      "source": [
        "from google.colab import drive\n",
        "import pandas as pd\n",
        "import numpy as np\n",
        "import seaborn as sns\n",
        "import matplotlib as plt\n",
        "import matplotlib.pyplot as plt\n",
        "import altair as alt"
      ],
      "metadata": {
        "id": "yVdDN6pE6u8C"
      },
      "execution_count": 286,
      "outputs": []
    },
    {
      "cell_type": "code",
      "source": [
        "drive.mount('/content/drive')"
      ],
      "metadata": {
        "colab": {
          "base_uri": "https://localhost:8080/"
        },
        "id": "NGzIeYw_6-cF",
        "outputId": "6df8bef7-af4d-46a4-822e-0c40b74c340e"
      },
      "execution_count": 287,
      "outputs": [
        {
          "output_type": "stream",
          "name": "stdout",
          "text": [
            "Drive already mounted at /content/drive; to attempt to forcibly remount, call drive.mount(\"/content/drive\", force_remount=True).\n"
          ]
        }
      ]
    },
    {
      "cell_type": "code",
      "source": [
        "Matematicas = pd.read_csv('/content/drive/MyDrive/Parcial 2 Python /student-mat.csv', \n",
        "                 sep = ';',\n",
        "                 index_col=False)\n",
        "Matematicas.head()"
      ],
      "metadata": {
        "colab": {
          "base_uri": "https://localhost:8080/",
          "height": 235
        },
        "id": "2yrKvDVr63UU",
        "outputId": "251be0ce-69da-4f4b-e66b-7a0a1588d137"
      },
      "execution_count": 288,
      "outputs": [
        {
          "output_type": "execute_result",
          "data": {
            "text/plain": [
              "  school sex  age address famsize Pstatus  Medu  Fedu     Mjob      Fjob  ...  \\\n",
              "0     GP   F   18       U     GT3       A     4     4  at_home   teacher  ...   \n",
              "1     GP   F   17       U     GT3       T     1     1  at_home     other  ...   \n",
              "2     GP   F   15       U     LE3       T     1     1  at_home     other  ...   \n",
              "3     GP   F   15       U     GT3       T     4     2   health  services  ...   \n",
              "4     GP   F   16       U     GT3       T     3     3    other     other  ...   \n",
              "\n",
              "  famrel freetime  goout  Dalc  Walc health absences    G1  G2  G3  \n",
              "0    4.0        3      4     1     1    3.0      6.0   5.0   6   6  \n",
              "1    5.0        3      3     1     1    3.0      4.0   5.0   5   6  \n",
              "2    4.0        3      2     2     3    3.0     10.0   7.0   8  10  \n",
              "3    3.0        2      2     1     1    5.0      2.0  15.0  14  15  \n",
              "4    4.0        3      2     1     2    5.0      4.0   6.0  10  10  \n",
              "\n",
              "[5 rows x 33 columns]"
            ],
            "text/html": [
              "\n",
              "  <div id=\"df-b44215d1-0bd1-46b2-918b-5b2095e22be7\">\n",
              "    <div class=\"colab-df-container\">\n",
              "      <div>\n",
              "<style scoped>\n",
              "    .dataframe tbody tr th:only-of-type {\n",
              "        vertical-align: middle;\n",
              "    }\n",
              "\n",
              "    .dataframe tbody tr th {\n",
              "        vertical-align: top;\n",
              "    }\n",
              "\n",
              "    .dataframe thead th {\n",
              "        text-align: right;\n",
              "    }\n",
              "</style>\n",
              "<table border=\"1\" class=\"dataframe\">\n",
              "  <thead>\n",
              "    <tr style=\"text-align: right;\">\n",
              "      <th></th>\n",
              "      <th>school</th>\n",
              "      <th>sex</th>\n",
              "      <th>age</th>\n",
              "      <th>address</th>\n",
              "      <th>famsize</th>\n",
              "      <th>Pstatus</th>\n",
              "      <th>Medu</th>\n",
              "      <th>Fedu</th>\n",
              "      <th>Mjob</th>\n",
              "      <th>Fjob</th>\n",
              "      <th>...</th>\n",
              "      <th>famrel</th>\n",
              "      <th>freetime</th>\n",
              "      <th>goout</th>\n",
              "      <th>Dalc</th>\n",
              "      <th>Walc</th>\n",
              "      <th>health</th>\n",
              "      <th>absences</th>\n",
              "      <th>G1</th>\n",
              "      <th>G2</th>\n",
              "      <th>G3</th>\n",
              "    </tr>\n",
              "  </thead>\n",
              "  <tbody>\n",
              "    <tr>\n",
              "      <th>0</th>\n",
              "      <td>GP</td>\n",
              "      <td>F</td>\n",
              "      <td>18</td>\n",
              "      <td>U</td>\n",
              "      <td>GT3</td>\n",
              "      <td>A</td>\n",
              "      <td>4</td>\n",
              "      <td>4</td>\n",
              "      <td>at_home</td>\n",
              "      <td>teacher</td>\n",
              "      <td>...</td>\n",
              "      <td>4.0</td>\n",
              "      <td>3</td>\n",
              "      <td>4</td>\n",
              "      <td>1</td>\n",
              "      <td>1</td>\n",
              "      <td>3.0</td>\n",
              "      <td>6.0</td>\n",
              "      <td>5.0</td>\n",
              "      <td>6</td>\n",
              "      <td>6</td>\n",
              "    </tr>\n",
              "    <tr>\n",
              "      <th>1</th>\n",
              "      <td>GP</td>\n",
              "      <td>F</td>\n",
              "      <td>17</td>\n",
              "      <td>U</td>\n",
              "      <td>GT3</td>\n",
              "      <td>T</td>\n",
              "      <td>1</td>\n",
              "      <td>1</td>\n",
              "      <td>at_home</td>\n",
              "      <td>other</td>\n",
              "      <td>...</td>\n",
              "      <td>5.0</td>\n",
              "      <td>3</td>\n",
              "      <td>3</td>\n",
              "      <td>1</td>\n",
              "      <td>1</td>\n",
              "      <td>3.0</td>\n",
              "      <td>4.0</td>\n",
              "      <td>5.0</td>\n",
              "      <td>5</td>\n",
              "      <td>6</td>\n",
              "    </tr>\n",
              "    <tr>\n",
              "      <th>2</th>\n",
              "      <td>GP</td>\n",
              "      <td>F</td>\n",
              "      <td>15</td>\n",
              "      <td>U</td>\n",
              "      <td>LE3</td>\n",
              "      <td>T</td>\n",
              "      <td>1</td>\n",
              "      <td>1</td>\n",
              "      <td>at_home</td>\n",
              "      <td>other</td>\n",
              "      <td>...</td>\n",
              "      <td>4.0</td>\n",
              "      <td>3</td>\n",
              "      <td>2</td>\n",
              "      <td>2</td>\n",
              "      <td>3</td>\n",
              "      <td>3.0</td>\n",
              "      <td>10.0</td>\n",
              "      <td>7.0</td>\n",
              "      <td>8</td>\n",
              "      <td>10</td>\n",
              "    </tr>\n",
              "    <tr>\n",
              "      <th>3</th>\n",
              "      <td>GP</td>\n",
              "      <td>F</td>\n",
              "      <td>15</td>\n",
              "      <td>U</td>\n",
              "      <td>GT3</td>\n",
              "      <td>T</td>\n",
              "      <td>4</td>\n",
              "      <td>2</td>\n",
              "      <td>health</td>\n",
              "      <td>services</td>\n",
              "      <td>...</td>\n",
              "      <td>3.0</td>\n",
              "      <td>2</td>\n",
              "      <td>2</td>\n",
              "      <td>1</td>\n",
              "      <td>1</td>\n",
              "      <td>5.0</td>\n",
              "      <td>2.0</td>\n",
              "      <td>15.0</td>\n",
              "      <td>14</td>\n",
              "      <td>15</td>\n",
              "    </tr>\n",
              "    <tr>\n",
              "      <th>4</th>\n",
              "      <td>GP</td>\n",
              "      <td>F</td>\n",
              "      <td>16</td>\n",
              "      <td>U</td>\n",
              "      <td>GT3</td>\n",
              "      <td>T</td>\n",
              "      <td>3</td>\n",
              "      <td>3</td>\n",
              "      <td>other</td>\n",
              "      <td>other</td>\n",
              "      <td>...</td>\n",
              "      <td>4.0</td>\n",
              "      <td>3</td>\n",
              "      <td>2</td>\n",
              "      <td>1</td>\n",
              "      <td>2</td>\n",
              "      <td>5.0</td>\n",
              "      <td>4.0</td>\n",
              "      <td>6.0</td>\n",
              "      <td>10</td>\n",
              "      <td>10</td>\n",
              "    </tr>\n",
              "  </tbody>\n",
              "</table>\n",
              "<p>5 rows × 33 columns</p>\n",
              "</div>\n",
              "      <button class=\"colab-df-convert\" onclick=\"convertToInteractive('df-b44215d1-0bd1-46b2-918b-5b2095e22be7')\"\n",
              "              title=\"Convert this dataframe to an interactive table.\"\n",
              "              style=\"display:none;\">\n",
              "        \n",
              "  <svg xmlns=\"http://www.w3.org/2000/svg\" height=\"24px\"viewBox=\"0 0 24 24\"\n",
              "       width=\"24px\">\n",
              "    <path d=\"M0 0h24v24H0V0z\" fill=\"none\"/>\n",
              "    <path d=\"M18.56 5.44l.94 2.06.94-2.06 2.06-.94-2.06-.94-.94-2.06-.94 2.06-2.06.94zm-11 1L8.5 8.5l.94-2.06 2.06-.94-2.06-.94L8.5 2.5l-.94 2.06-2.06.94zm10 10l.94 2.06.94-2.06 2.06-.94-2.06-.94-.94-2.06-.94 2.06-2.06.94z\"/><path d=\"M17.41 7.96l-1.37-1.37c-.4-.4-.92-.59-1.43-.59-.52 0-1.04.2-1.43.59L10.3 9.45l-7.72 7.72c-.78.78-.78 2.05 0 2.83L4 21.41c.39.39.9.59 1.41.59.51 0 1.02-.2 1.41-.59l7.78-7.78 2.81-2.81c.8-.78.8-2.07 0-2.86zM5.41 20L4 18.59l7.72-7.72 1.47 1.35L5.41 20z\"/>\n",
              "  </svg>\n",
              "      </button>\n",
              "      \n",
              "  <style>\n",
              "    .colab-df-container {\n",
              "      display:flex;\n",
              "      flex-wrap:wrap;\n",
              "      gap: 12px;\n",
              "    }\n",
              "\n",
              "    .colab-df-convert {\n",
              "      background-color: #E8F0FE;\n",
              "      border: none;\n",
              "      border-radius: 50%;\n",
              "      cursor: pointer;\n",
              "      display: none;\n",
              "      fill: #1967D2;\n",
              "      height: 32px;\n",
              "      padding: 0 0 0 0;\n",
              "      width: 32px;\n",
              "    }\n",
              "\n",
              "    .colab-df-convert:hover {\n",
              "      background-color: #E2EBFA;\n",
              "      box-shadow: 0px 1px 2px rgba(60, 64, 67, 0.3), 0px 1px 3px 1px rgba(60, 64, 67, 0.15);\n",
              "      fill: #174EA6;\n",
              "    }\n",
              "\n",
              "    [theme=dark] .colab-df-convert {\n",
              "      background-color: #3B4455;\n",
              "      fill: #D2E3FC;\n",
              "    }\n",
              "\n",
              "    [theme=dark] .colab-df-convert:hover {\n",
              "      background-color: #434B5C;\n",
              "      box-shadow: 0px 1px 3px 1px rgba(0, 0, 0, 0.15);\n",
              "      filter: drop-shadow(0px 1px 2px rgba(0, 0, 0, 0.3));\n",
              "      fill: #FFFFFF;\n",
              "    }\n",
              "  </style>\n",
              "\n",
              "      <script>\n",
              "        const buttonEl =\n",
              "          document.querySelector('#df-b44215d1-0bd1-46b2-918b-5b2095e22be7 button.colab-df-convert');\n",
              "        buttonEl.style.display =\n",
              "          google.colab.kernel.accessAllowed ? 'block' : 'none';\n",
              "\n",
              "        async function convertToInteractive(key) {\n",
              "          const element = document.querySelector('#df-b44215d1-0bd1-46b2-918b-5b2095e22be7');\n",
              "          const dataTable =\n",
              "            await google.colab.kernel.invokeFunction('convertToInteractive',\n",
              "                                                     [key], {});\n",
              "          if (!dataTable) return;\n",
              "\n",
              "          const docLinkHtml = 'Like what you see? Visit the ' +\n",
              "            '<a target=\"_blank\" href=https://colab.research.google.com/notebooks/data_table.ipynb>data table notebook</a>'\n",
              "            + ' to learn more about interactive tables.';\n",
              "          element.innerHTML = '';\n",
              "          dataTable['output_type'] = 'display_data';\n",
              "          await google.colab.output.renderOutput(dataTable, element);\n",
              "          const docLink = document.createElement('div');\n",
              "          docLink.innerHTML = docLinkHtml;\n",
              "          element.appendChild(docLink);\n",
              "        }\n",
              "      </script>\n",
              "    </div>\n",
              "  </div>\n",
              "  "
            ]
          },
          "metadata": {},
          "execution_count": 288
        }
      ]
    },
    {
      "cell_type": "markdown",
      "source": [
        "Parcial:\n",
        "1.\tRealice el proceso de verificación de calidad de datos y limpieza si es necesario realizarla. Mencione al final del punto, un resumen de los hallazgos encontrados."
      ],
      "metadata": {
        "id": "LxFtMafIvpLr"
      }
    },
    {
      "cell_type": "markdown",
      "source": [
        "### Características de los datos."
      ],
      "metadata": {
        "id": "UE7LHce44xQe"
      }
    },
    {
      "cell_type": "code",
      "source": [
        "Matematicas.shape"
      ],
      "metadata": {
        "colab": {
          "base_uri": "https://localhost:8080/"
        },
        "id": "0WCUUUaQ2Kdc",
        "outputId": "7cd64f12-10f8-427c-bc21-13575644d87a"
      },
      "execution_count": 289,
      "outputs": [
        {
          "output_type": "execute_result",
          "data": {
            "text/plain": [
              "(395, 33)"
            ]
          },
          "metadata": {},
          "execution_count": 289
        }
      ]
    },
    {
      "cell_type": "code",
      "source": [
        "Matematicas.describe()"
      ],
      "metadata": {
        "colab": {
          "base_uri": "https://localhost:8080/",
          "height": 0
        },
        "id": "APPm28Pkccqo",
        "outputId": "12886132-5101-4e7c-d021-1bb90ca80162"
      },
      "execution_count": 290,
      "outputs": [
        {
          "output_type": "execute_result",
          "data": {
            "text/plain": [
              "              age        Medu        Fedu  traveltime   studytime    failures  \\\n",
              "count  395.000000  395.000000  395.000000  395.000000  395.000000  395.000000   \n",
              "mean    16.696203    2.749367    2.521519    1.448101    2.035443    0.334177   \n",
              "std      1.276043    1.094735    1.088201    0.697505    0.839240    0.743651   \n",
              "min     15.000000    0.000000    0.000000    1.000000    1.000000    0.000000   \n",
              "25%     16.000000    2.000000    2.000000    1.000000    1.000000    0.000000   \n",
              "50%     17.000000    3.000000    2.000000    1.000000    2.000000    0.000000   \n",
              "75%     18.000000    4.000000    3.000000    2.000000    2.000000    0.000000   \n",
              "max     22.000000    4.000000    4.000000    4.000000    4.000000    3.000000   \n",
              "\n",
              "           famrel    freetime       goout        Dalc        Walc      health  \\\n",
              "count  394.000000  395.000000  395.000000  395.000000  395.000000  394.000000   \n",
              "mean     3.944162    3.235443    3.108861    1.481013    2.291139    3.555838   \n",
              "std      0.897794    0.998862    1.113278    0.890741    1.287897    1.391789   \n",
              "min      1.000000    1.000000    1.000000    1.000000    1.000000    1.000000   \n",
              "25%      4.000000    3.000000    2.000000    1.000000    1.000000    3.000000   \n",
              "50%      4.000000    3.000000    3.000000    1.000000    2.000000    4.000000   \n",
              "75%      5.000000    4.000000    4.000000    2.000000    3.000000    5.000000   \n",
              "max      5.000000    5.000000    5.000000    5.000000    5.000000    5.000000   \n",
              "\n",
              "         absences          G1          G2          G3  \n",
              "count  394.000000  394.000000  395.000000  395.000000  \n",
              "mean     5.723350   10.916244   10.764557   10.440506  \n",
              "std      8.008082    3.320166    3.858244    4.628688  \n",
              "min      0.000000    3.000000    0.000000    0.000000  \n",
              "25%      0.000000    8.000000    9.000000    8.000000  \n",
              "50%      4.000000   11.000000   11.000000   11.000000  \n",
              "75%      8.000000   13.000000   13.000000   14.000000  \n",
              "max     75.000000   19.000000   28.000000   24.000000  "
            ],
            "text/html": [
              "\n",
              "  <div id=\"df-07d1aae0-8f8d-41df-872e-309ace8d7d25\">\n",
              "    <div class=\"colab-df-container\">\n",
              "      <div>\n",
              "<style scoped>\n",
              "    .dataframe tbody tr th:only-of-type {\n",
              "        vertical-align: middle;\n",
              "    }\n",
              "\n",
              "    .dataframe tbody tr th {\n",
              "        vertical-align: top;\n",
              "    }\n",
              "\n",
              "    .dataframe thead th {\n",
              "        text-align: right;\n",
              "    }\n",
              "</style>\n",
              "<table border=\"1\" class=\"dataframe\">\n",
              "  <thead>\n",
              "    <tr style=\"text-align: right;\">\n",
              "      <th></th>\n",
              "      <th>age</th>\n",
              "      <th>Medu</th>\n",
              "      <th>Fedu</th>\n",
              "      <th>traveltime</th>\n",
              "      <th>studytime</th>\n",
              "      <th>failures</th>\n",
              "      <th>famrel</th>\n",
              "      <th>freetime</th>\n",
              "      <th>goout</th>\n",
              "      <th>Dalc</th>\n",
              "      <th>Walc</th>\n",
              "      <th>health</th>\n",
              "      <th>absences</th>\n",
              "      <th>G1</th>\n",
              "      <th>G2</th>\n",
              "      <th>G3</th>\n",
              "    </tr>\n",
              "  </thead>\n",
              "  <tbody>\n",
              "    <tr>\n",
              "      <th>count</th>\n",
              "      <td>395.000000</td>\n",
              "      <td>395.000000</td>\n",
              "      <td>395.000000</td>\n",
              "      <td>395.000000</td>\n",
              "      <td>395.000000</td>\n",
              "      <td>395.000000</td>\n",
              "      <td>394.000000</td>\n",
              "      <td>395.000000</td>\n",
              "      <td>395.000000</td>\n",
              "      <td>395.000000</td>\n",
              "      <td>395.000000</td>\n",
              "      <td>394.000000</td>\n",
              "      <td>394.000000</td>\n",
              "      <td>394.000000</td>\n",
              "      <td>395.000000</td>\n",
              "      <td>395.000000</td>\n",
              "    </tr>\n",
              "    <tr>\n",
              "      <th>mean</th>\n",
              "      <td>16.696203</td>\n",
              "      <td>2.749367</td>\n",
              "      <td>2.521519</td>\n",
              "      <td>1.448101</td>\n",
              "      <td>2.035443</td>\n",
              "      <td>0.334177</td>\n",
              "      <td>3.944162</td>\n",
              "      <td>3.235443</td>\n",
              "      <td>3.108861</td>\n",
              "      <td>1.481013</td>\n",
              "      <td>2.291139</td>\n",
              "      <td>3.555838</td>\n",
              "      <td>5.723350</td>\n",
              "      <td>10.916244</td>\n",
              "      <td>10.764557</td>\n",
              "      <td>10.440506</td>\n",
              "    </tr>\n",
              "    <tr>\n",
              "      <th>std</th>\n",
              "      <td>1.276043</td>\n",
              "      <td>1.094735</td>\n",
              "      <td>1.088201</td>\n",
              "      <td>0.697505</td>\n",
              "      <td>0.839240</td>\n",
              "      <td>0.743651</td>\n",
              "      <td>0.897794</td>\n",
              "      <td>0.998862</td>\n",
              "      <td>1.113278</td>\n",
              "      <td>0.890741</td>\n",
              "      <td>1.287897</td>\n",
              "      <td>1.391789</td>\n",
              "      <td>8.008082</td>\n",
              "      <td>3.320166</td>\n",
              "      <td>3.858244</td>\n",
              "      <td>4.628688</td>\n",
              "    </tr>\n",
              "    <tr>\n",
              "      <th>min</th>\n",
              "      <td>15.000000</td>\n",
              "      <td>0.000000</td>\n",
              "      <td>0.000000</td>\n",
              "      <td>1.000000</td>\n",
              "      <td>1.000000</td>\n",
              "      <td>0.000000</td>\n",
              "      <td>1.000000</td>\n",
              "      <td>1.000000</td>\n",
              "      <td>1.000000</td>\n",
              "      <td>1.000000</td>\n",
              "      <td>1.000000</td>\n",
              "      <td>1.000000</td>\n",
              "      <td>0.000000</td>\n",
              "      <td>3.000000</td>\n",
              "      <td>0.000000</td>\n",
              "      <td>0.000000</td>\n",
              "    </tr>\n",
              "    <tr>\n",
              "      <th>25%</th>\n",
              "      <td>16.000000</td>\n",
              "      <td>2.000000</td>\n",
              "      <td>2.000000</td>\n",
              "      <td>1.000000</td>\n",
              "      <td>1.000000</td>\n",
              "      <td>0.000000</td>\n",
              "      <td>4.000000</td>\n",
              "      <td>3.000000</td>\n",
              "      <td>2.000000</td>\n",
              "      <td>1.000000</td>\n",
              "      <td>1.000000</td>\n",
              "      <td>3.000000</td>\n",
              "      <td>0.000000</td>\n",
              "      <td>8.000000</td>\n",
              "      <td>9.000000</td>\n",
              "      <td>8.000000</td>\n",
              "    </tr>\n",
              "    <tr>\n",
              "      <th>50%</th>\n",
              "      <td>17.000000</td>\n",
              "      <td>3.000000</td>\n",
              "      <td>2.000000</td>\n",
              "      <td>1.000000</td>\n",
              "      <td>2.000000</td>\n",
              "      <td>0.000000</td>\n",
              "      <td>4.000000</td>\n",
              "      <td>3.000000</td>\n",
              "      <td>3.000000</td>\n",
              "      <td>1.000000</td>\n",
              "      <td>2.000000</td>\n",
              "      <td>4.000000</td>\n",
              "      <td>4.000000</td>\n",
              "      <td>11.000000</td>\n",
              "      <td>11.000000</td>\n",
              "      <td>11.000000</td>\n",
              "    </tr>\n",
              "    <tr>\n",
              "      <th>75%</th>\n",
              "      <td>18.000000</td>\n",
              "      <td>4.000000</td>\n",
              "      <td>3.000000</td>\n",
              "      <td>2.000000</td>\n",
              "      <td>2.000000</td>\n",
              "      <td>0.000000</td>\n",
              "      <td>5.000000</td>\n",
              "      <td>4.000000</td>\n",
              "      <td>4.000000</td>\n",
              "      <td>2.000000</td>\n",
              "      <td>3.000000</td>\n",
              "      <td>5.000000</td>\n",
              "      <td>8.000000</td>\n",
              "      <td>13.000000</td>\n",
              "      <td>13.000000</td>\n",
              "      <td>14.000000</td>\n",
              "    </tr>\n",
              "    <tr>\n",
              "      <th>max</th>\n",
              "      <td>22.000000</td>\n",
              "      <td>4.000000</td>\n",
              "      <td>4.000000</td>\n",
              "      <td>4.000000</td>\n",
              "      <td>4.000000</td>\n",
              "      <td>3.000000</td>\n",
              "      <td>5.000000</td>\n",
              "      <td>5.000000</td>\n",
              "      <td>5.000000</td>\n",
              "      <td>5.000000</td>\n",
              "      <td>5.000000</td>\n",
              "      <td>5.000000</td>\n",
              "      <td>75.000000</td>\n",
              "      <td>19.000000</td>\n",
              "      <td>28.000000</td>\n",
              "      <td>24.000000</td>\n",
              "    </tr>\n",
              "  </tbody>\n",
              "</table>\n",
              "</div>\n",
              "      <button class=\"colab-df-convert\" onclick=\"convertToInteractive('df-07d1aae0-8f8d-41df-872e-309ace8d7d25')\"\n",
              "              title=\"Convert this dataframe to an interactive table.\"\n",
              "              style=\"display:none;\">\n",
              "        \n",
              "  <svg xmlns=\"http://www.w3.org/2000/svg\" height=\"24px\"viewBox=\"0 0 24 24\"\n",
              "       width=\"24px\">\n",
              "    <path d=\"M0 0h24v24H0V0z\" fill=\"none\"/>\n",
              "    <path d=\"M18.56 5.44l.94 2.06.94-2.06 2.06-.94-2.06-.94-.94-2.06-.94 2.06-2.06.94zm-11 1L8.5 8.5l.94-2.06 2.06-.94-2.06-.94L8.5 2.5l-.94 2.06-2.06.94zm10 10l.94 2.06.94-2.06 2.06-.94-2.06-.94-.94-2.06-.94 2.06-2.06.94z\"/><path d=\"M17.41 7.96l-1.37-1.37c-.4-.4-.92-.59-1.43-.59-.52 0-1.04.2-1.43.59L10.3 9.45l-7.72 7.72c-.78.78-.78 2.05 0 2.83L4 21.41c.39.39.9.59 1.41.59.51 0 1.02-.2 1.41-.59l7.78-7.78 2.81-2.81c.8-.78.8-2.07 0-2.86zM5.41 20L4 18.59l7.72-7.72 1.47 1.35L5.41 20z\"/>\n",
              "  </svg>\n",
              "      </button>\n",
              "      \n",
              "  <style>\n",
              "    .colab-df-container {\n",
              "      display:flex;\n",
              "      flex-wrap:wrap;\n",
              "      gap: 12px;\n",
              "    }\n",
              "\n",
              "    .colab-df-convert {\n",
              "      background-color: #E8F0FE;\n",
              "      border: none;\n",
              "      border-radius: 50%;\n",
              "      cursor: pointer;\n",
              "      display: none;\n",
              "      fill: #1967D2;\n",
              "      height: 32px;\n",
              "      padding: 0 0 0 0;\n",
              "      width: 32px;\n",
              "    }\n",
              "\n",
              "    .colab-df-convert:hover {\n",
              "      background-color: #E2EBFA;\n",
              "      box-shadow: 0px 1px 2px rgba(60, 64, 67, 0.3), 0px 1px 3px 1px rgba(60, 64, 67, 0.15);\n",
              "      fill: #174EA6;\n",
              "    }\n",
              "\n",
              "    [theme=dark] .colab-df-convert {\n",
              "      background-color: #3B4455;\n",
              "      fill: #D2E3FC;\n",
              "    }\n",
              "\n",
              "    [theme=dark] .colab-df-convert:hover {\n",
              "      background-color: #434B5C;\n",
              "      box-shadow: 0px 1px 3px 1px rgba(0, 0, 0, 0.15);\n",
              "      filter: drop-shadow(0px 1px 2px rgba(0, 0, 0, 0.3));\n",
              "      fill: #FFFFFF;\n",
              "    }\n",
              "  </style>\n",
              "\n",
              "      <script>\n",
              "        const buttonEl =\n",
              "          document.querySelector('#df-07d1aae0-8f8d-41df-872e-309ace8d7d25 button.colab-df-convert');\n",
              "        buttonEl.style.display =\n",
              "          google.colab.kernel.accessAllowed ? 'block' : 'none';\n",
              "\n",
              "        async function convertToInteractive(key) {\n",
              "          const element = document.querySelector('#df-07d1aae0-8f8d-41df-872e-309ace8d7d25');\n",
              "          const dataTable =\n",
              "            await google.colab.kernel.invokeFunction('convertToInteractive',\n",
              "                                                     [key], {});\n",
              "          if (!dataTable) return;\n",
              "\n",
              "          const docLinkHtml = 'Like what you see? Visit the ' +\n",
              "            '<a target=\"_blank\" href=https://colab.research.google.com/notebooks/data_table.ipynb>data table notebook</a>'\n",
              "            + ' to learn more about interactive tables.';\n",
              "          element.innerHTML = '';\n",
              "          dataTable['output_type'] = 'display_data';\n",
              "          await google.colab.output.renderOutput(dataTable, element);\n",
              "          const docLink = document.createElement('div');\n",
              "          docLink.innerHTML = docLinkHtml;\n",
              "          element.appendChild(docLink);\n",
              "        }\n",
              "      </script>\n",
              "    </div>\n",
              "  </div>\n",
              "  "
            ]
          },
          "metadata": {},
          "execution_count": 290
        }
      ]
    },
    {
      "cell_type": "markdown",
      "source": [
        "### Faltantes"
      ],
      "metadata": {
        "id": "HG-4_QBn4oOE"
      }
    },
    {
      "cell_type": "code",
      "source": [
        "for col in Matematicas.columns:\n",
        "    num_missing = Matematicas[col].isnull().sum()\n",
        "    pct_missing = np.mean(Matematicas[col].isnull())\n",
        "    #print(col,\" - \",round(pct_missing*100, 2),\"% - \",num_missing)\n",
        "    print('{} - {}% - {}'.format(col,round(pct_missing*100, 2),num_missing))"
      ],
      "metadata": {
        "colab": {
          "base_uri": "https://localhost:8080/"
        },
        "id": "5Y4jEMOi4neM",
        "outputId": "eaac8f08-90b9-49ef-f7ef-ebaefa4cc67d"
      },
      "execution_count": 291,
      "outputs": [
        {
          "output_type": "stream",
          "name": "stdout",
          "text": [
            "school - 0.0% - 0\n",
            "sex - 0.25% - 1\n",
            "age - 0.0% - 0\n",
            "address - 0.51% - 2\n",
            "famsize - 0.25% - 1\n",
            "Pstatus - 0.0% - 0\n",
            "Medu - 0.0% - 0\n",
            "Fedu - 0.0% - 0\n",
            "Mjob - 0.25% - 1\n",
            "Fjob - 0.0% - 0\n",
            "reason - 0.25% - 1\n",
            "guardian - 0.0% - 0\n",
            "traveltime - 0.0% - 0\n",
            "studytime - 0.0% - 0\n",
            "failures - 0.0% - 0\n",
            "schoolsup - 0.25% - 1\n",
            "famsup - 0.0% - 0\n",
            "paid - 0.51% - 2\n",
            "activities - 0.51% - 2\n",
            "nursery - 0.0% - 0\n",
            "higher - 0.25% - 1\n",
            "internet - 0.0% - 0\n",
            "romantic - 0.0% - 0\n",
            "famrel - 0.25% - 1\n",
            "freetime - 0.0% - 0\n",
            "goout - 0.0% - 0\n",
            "Dalc - 0.0% - 0\n",
            "Walc - 0.0% - 0\n",
            "health - 0.25% - 1\n",
            "absences - 0.25% - 1\n",
            "G1 - 0.25% - 1\n",
            "G2 - 0.0% - 0\n",
            "G3 - 0.0% - 0\n"
          ]
        }
      ]
    },
    {
      "cell_type": "code",
      "source": [
        "# Total de datos faltantes en las variables.\n",
        "Matematicas.isnull().sum().sum()"
      ],
      "metadata": {
        "colab": {
          "base_uri": "https://localhost:8080/"
        },
        "id": "ngyBRrXi5Fub",
        "outputId": "d974bbbb-683e-4557-9410-72c4e974d411"
      },
      "execution_count": 292,
      "outputs": [
        {
          "output_type": "execute_result",
          "data": {
            "text/plain": [
              "16"
            ]
          },
          "metadata": {},
          "execution_count": 292
        }
      ]
    },
    {
      "cell_type": "code",
      "source": [
        "# Eliminación de los datos faltantes\n",
        "Matematicas = Matematicas.dropna()"
      ],
      "metadata": {
        "id": "FULIahcy9HIp"
      },
      "execution_count": 293,
      "outputs": []
    },
    {
      "cell_type": "code",
      "source": [
        "Matematicas.shape"
      ],
      "metadata": {
        "colab": {
          "base_uri": "https://localhost:8080/"
        },
        "id": "Fz2Qo-9KB6QO",
        "outputId": "f148df78-fabf-42df-fa1c-c4ef2f9ba802"
      },
      "execution_count": 294,
      "outputs": [
        {
          "output_type": "execute_result",
          "data": {
            "text/plain": [
              "(379, 33)"
            ]
          },
          "metadata": {},
          "execution_count": 294
        }
      ]
    },
    {
      "cell_type": "markdown",
      "source": [
        "### Duplicados"
      ],
      "metadata": {
        "id": "w-bTpLCADUG-"
      }
    },
    {
      "cell_type": "code",
      "source": [
        "Matematicas[Matematicas.duplicated()]"
      ],
      "metadata": {
        "colab": {
          "base_uri": "https://localhost:8080/",
          "height": 0
        },
        "id": "pHP5vqYKA4uy",
        "outputId": "73d6d34c-f292-405b-e214-15fb54280ddf"
      },
      "execution_count": 295,
      "outputs": [
        {
          "output_type": "execute_result",
          "data": {
            "text/plain": [
              "Empty DataFrame\n",
              "Columns: [school, sex, age, address, famsize, Pstatus, Medu, Fedu, Mjob, Fjob, reason, guardian, traveltime, studytime, failures, schoolsup, famsup, paid, activities, nursery, higher, internet, romantic, famrel, freetime, goout, Dalc, Walc, health, absences, G1, G2, G3]\n",
              "Index: []\n",
              "\n",
              "[0 rows x 33 columns]"
            ],
            "text/html": [
              "\n",
              "  <div id=\"df-fa3bbd86-18dd-4d57-ac9f-731fd3b9a185\">\n",
              "    <div class=\"colab-df-container\">\n",
              "      <div>\n",
              "<style scoped>\n",
              "    .dataframe tbody tr th:only-of-type {\n",
              "        vertical-align: middle;\n",
              "    }\n",
              "\n",
              "    .dataframe tbody tr th {\n",
              "        vertical-align: top;\n",
              "    }\n",
              "\n",
              "    .dataframe thead th {\n",
              "        text-align: right;\n",
              "    }\n",
              "</style>\n",
              "<table border=\"1\" class=\"dataframe\">\n",
              "  <thead>\n",
              "    <tr style=\"text-align: right;\">\n",
              "      <th></th>\n",
              "      <th>school</th>\n",
              "      <th>sex</th>\n",
              "      <th>age</th>\n",
              "      <th>address</th>\n",
              "      <th>famsize</th>\n",
              "      <th>Pstatus</th>\n",
              "      <th>Medu</th>\n",
              "      <th>Fedu</th>\n",
              "      <th>Mjob</th>\n",
              "      <th>Fjob</th>\n",
              "      <th>...</th>\n",
              "      <th>famrel</th>\n",
              "      <th>freetime</th>\n",
              "      <th>goout</th>\n",
              "      <th>Dalc</th>\n",
              "      <th>Walc</th>\n",
              "      <th>health</th>\n",
              "      <th>absences</th>\n",
              "      <th>G1</th>\n",
              "      <th>G2</th>\n",
              "      <th>G3</th>\n",
              "    </tr>\n",
              "  </thead>\n",
              "  <tbody>\n",
              "  </tbody>\n",
              "</table>\n",
              "<p>0 rows × 33 columns</p>\n",
              "</div>\n",
              "      <button class=\"colab-df-convert\" onclick=\"convertToInteractive('df-fa3bbd86-18dd-4d57-ac9f-731fd3b9a185')\"\n",
              "              title=\"Convert this dataframe to an interactive table.\"\n",
              "              style=\"display:none;\">\n",
              "        \n",
              "  <svg xmlns=\"http://www.w3.org/2000/svg\" height=\"24px\"viewBox=\"0 0 24 24\"\n",
              "       width=\"24px\">\n",
              "    <path d=\"M0 0h24v24H0V0z\" fill=\"none\"/>\n",
              "    <path d=\"M18.56 5.44l.94 2.06.94-2.06 2.06-.94-2.06-.94-.94-2.06-.94 2.06-2.06.94zm-11 1L8.5 8.5l.94-2.06 2.06-.94-2.06-.94L8.5 2.5l-.94 2.06-2.06.94zm10 10l.94 2.06.94-2.06 2.06-.94-2.06-.94-.94-2.06-.94 2.06-2.06.94z\"/><path d=\"M17.41 7.96l-1.37-1.37c-.4-.4-.92-.59-1.43-.59-.52 0-1.04.2-1.43.59L10.3 9.45l-7.72 7.72c-.78.78-.78 2.05 0 2.83L4 21.41c.39.39.9.59 1.41.59.51 0 1.02-.2 1.41-.59l7.78-7.78 2.81-2.81c.8-.78.8-2.07 0-2.86zM5.41 20L4 18.59l7.72-7.72 1.47 1.35L5.41 20z\"/>\n",
              "  </svg>\n",
              "      </button>\n",
              "      \n",
              "  <style>\n",
              "    .colab-df-container {\n",
              "      display:flex;\n",
              "      flex-wrap:wrap;\n",
              "      gap: 12px;\n",
              "    }\n",
              "\n",
              "    .colab-df-convert {\n",
              "      background-color: #E8F0FE;\n",
              "      border: none;\n",
              "      border-radius: 50%;\n",
              "      cursor: pointer;\n",
              "      display: none;\n",
              "      fill: #1967D2;\n",
              "      height: 32px;\n",
              "      padding: 0 0 0 0;\n",
              "      width: 32px;\n",
              "    }\n",
              "\n",
              "    .colab-df-convert:hover {\n",
              "      background-color: #E2EBFA;\n",
              "      box-shadow: 0px 1px 2px rgba(60, 64, 67, 0.3), 0px 1px 3px 1px rgba(60, 64, 67, 0.15);\n",
              "      fill: #174EA6;\n",
              "    }\n",
              "\n",
              "    [theme=dark] .colab-df-convert {\n",
              "      background-color: #3B4455;\n",
              "      fill: #D2E3FC;\n",
              "    }\n",
              "\n",
              "    [theme=dark] .colab-df-convert:hover {\n",
              "      background-color: #434B5C;\n",
              "      box-shadow: 0px 1px 3px 1px rgba(0, 0, 0, 0.15);\n",
              "      filter: drop-shadow(0px 1px 2px rgba(0, 0, 0, 0.3));\n",
              "      fill: #FFFFFF;\n",
              "    }\n",
              "  </style>\n",
              "\n",
              "      <script>\n",
              "        const buttonEl =\n",
              "          document.querySelector('#df-fa3bbd86-18dd-4d57-ac9f-731fd3b9a185 button.colab-df-convert');\n",
              "        buttonEl.style.display =\n",
              "          google.colab.kernel.accessAllowed ? 'block' : 'none';\n",
              "\n",
              "        async function convertToInteractive(key) {\n",
              "          const element = document.querySelector('#df-fa3bbd86-18dd-4d57-ac9f-731fd3b9a185');\n",
              "          const dataTable =\n",
              "            await google.colab.kernel.invokeFunction('convertToInteractive',\n",
              "                                                     [key], {});\n",
              "          if (!dataTable) return;\n",
              "\n",
              "          const docLinkHtml = 'Like what you see? Visit the ' +\n",
              "            '<a target=\"_blank\" href=https://colab.research.google.com/notebooks/data_table.ipynb>data table notebook</a>'\n",
              "            + ' to learn more about interactive tables.';\n",
              "          element.innerHTML = '';\n",
              "          dataTable['output_type'] = 'display_data';\n",
              "          await google.colab.output.renderOutput(dataTable, element);\n",
              "          const docLink = document.createElement('div');\n",
              "          docLink.innerHTML = docLinkHtml;\n",
              "          element.appendChild(docLink);\n",
              "        }\n",
              "      </script>\n",
              "    </div>\n",
              "  </div>\n",
              "  "
            ]
          },
          "metadata": {},
          "execution_count": 295
        }
      ]
    },
    {
      "cell_type": "markdown",
      "source": [
        "### Consistencia"
      ],
      "metadata": {
        "id": "ffZuH-OLDa-P"
      }
    },
    {
      "cell_type": "code",
      "source": [
        "Matematicas.describe()"
      ],
      "metadata": {
        "colab": {
          "base_uri": "https://localhost:8080/",
          "height": 364
        },
        "id": "4iP4sEpn5rmo",
        "outputId": "7c5f24fb-933a-448c-b23e-58b953f563f4"
      },
      "execution_count": 296,
      "outputs": [
        {
          "output_type": "execute_result",
          "data": {
            "text/plain": [
              "              age        Medu        Fedu  traveltime   studytime    failures  \\\n",
              "count  379.000000  379.000000  379.000000  379.000000  379.000000  379.000000   \n",
              "mean    16.686016    2.759894    2.532982    1.451187    2.034301    0.340369   \n",
              "std      1.282396    1.102127    1.086641    0.704947    0.836587    0.754339   \n",
              "min     15.000000    0.000000    0.000000    1.000000    1.000000    0.000000   \n",
              "25%     16.000000    2.000000    2.000000    1.000000    1.000000    0.000000   \n",
              "50%     17.000000    3.000000    3.000000    1.000000    2.000000    0.000000   \n",
              "75%     18.000000    4.000000    3.000000    2.000000    2.000000    0.000000   \n",
              "max     22.000000    4.000000    4.000000    4.000000    4.000000    3.000000   \n",
              "\n",
              "           famrel    freetime       goout        Dalc        Walc      health  \\\n",
              "count  379.000000  379.000000  379.000000  379.000000  379.000000  379.000000   \n",
              "mean     3.936675    3.232190    3.124011    1.490765    2.300792    3.546174   \n",
              "std      0.888611    0.980723    1.102152    0.900790    1.298870    1.395327   \n",
              "min      1.000000    1.000000    1.000000    1.000000    1.000000    1.000000   \n",
              "25%      4.000000    3.000000    2.000000    1.000000    1.000000    3.000000   \n",
              "50%      4.000000    3.000000    3.000000    1.000000    2.000000    4.000000   \n",
              "75%      5.000000    4.000000    4.000000    2.000000    3.000000    5.000000   \n",
              "max      5.000000    5.000000    5.000000    5.000000    5.000000    5.000000   \n",
              "\n",
              "         absences          G1          G2          G3  \n",
              "count  379.000000  379.000000  379.000000  379.000000  \n",
              "mean     5.738786   10.957784   10.817942   10.532982  \n",
              "std      8.085054    3.337031    3.897645    4.611447  \n",
              "min      0.000000    3.000000    0.000000    0.000000  \n",
              "25%      0.000000    8.000000    9.000000    8.000000  \n",
              "50%      4.000000   11.000000   11.000000   11.000000  \n",
              "75%      8.000000   13.000000   13.000000   14.000000  \n",
              "max     75.000000   19.000000   28.000000   24.000000  "
            ],
            "text/html": [
              "\n",
              "  <div id=\"df-f989cab5-6e4a-4a6e-9189-18812798739b\">\n",
              "    <div class=\"colab-df-container\">\n",
              "      <div>\n",
              "<style scoped>\n",
              "    .dataframe tbody tr th:only-of-type {\n",
              "        vertical-align: middle;\n",
              "    }\n",
              "\n",
              "    .dataframe tbody tr th {\n",
              "        vertical-align: top;\n",
              "    }\n",
              "\n",
              "    .dataframe thead th {\n",
              "        text-align: right;\n",
              "    }\n",
              "</style>\n",
              "<table border=\"1\" class=\"dataframe\">\n",
              "  <thead>\n",
              "    <tr style=\"text-align: right;\">\n",
              "      <th></th>\n",
              "      <th>age</th>\n",
              "      <th>Medu</th>\n",
              "      <th>Fedu</th>\n",
              "      <th>traveltime</th>\n",
              "      <th>studytime</th>\n",
              "      <th>failures</th>\n",
              "      <th>famrel</th>\n",
              "      <th>freetime</th>\n",
              "      <th>goout</th>\n",
              "      <th>Dalc</th>\n",
              "      <th>Walc</th>\n",
              "      <th>health</th>\n",
              "      <th>absences</th>\n",
              "      <th>G1</th>\n",
              "      <th>G2</th>\n",
              "      <th>G3</th>\n",
              "    </tr>\n",
              "  </thead>\n",
              "  <tbody>\n",
              "    <tr>\n",
              "      <th>count</th>\n",
              "      <td>379.000000</td>\n",
              "      <td>379.000000</td>\n",
              "      <td>379.000000</td>\n",
              "      <td>379.000000</td>\n",
              "      <td>379.000000</td>\n",
              "      <td>379.000000</td>\n",
              "      <td>379.000000</td>\n",
              "      <td>379.000000</td>\n",
              "      <td>379.000000</td>\n",
              "      <td>379.000000</td>\n",
              "      <td>379.000000</td>\n",
              "      <td>379.000000</td>\n",
              "      <td>379.000000</td>\n",
              "      <td>379.000000</td>\n",
              "      <td>379.000000</td>\n",
              "      <td>379.000000</td>\n",
              "    </tr>\n",
              "    <tr>\n",
              "      <th>mean</th>\n",
              "      <td>16.686016</td>\n",
              "      <td>2.759894</td>\n",
              "      <td>2.532982</td>\n",
              "      <td>1.451187</td>\n",
              "      <td>2.034301</td>\n",
              "      <td>0.340369</td>\n",
              "      <td>3.936675</td>\n",
              "      <td>3.232190</td>\n",
              "      <td>3.124011</td>\n",
              "      <td>1.490765</td>\n",
              "      <td>2.300792</td>\n",
              "      <td>3.546174</td>\n",
              "      <td>5.738786</td>\n",
              "      <td>10.957784</td>\n",
              "      <td>10.817942</td>\n",
              "      <td>10.532982</td>\n",
              "    </tr>\n",
              "    <tr>\n",
              "      <th>std</th>\n",
              "      <td>1.282396</td>\n",
              "      <td>1.102127</td>\n",
              "      <td>1.086641</td>\n",
              "      <td>0.704947</td>\n",
              "      <td>0.836587</td>\n",
              "      <td>0.754339</td>\n",
              "      <td>0.888611</td>\n",
              "      <td>0.980723</td>\n",
              "      <td>1.102152</td>\n",
              "      <td>0.900790</td>\n",
              "      <td>1.298870</td>\n",
              "      <td>1.395327</td>\n",
              "      <td>8.085054</td>\n",
              "      <td>3.337031</td>\n",
              "      <td>3.897645</td>\n",
              "      <td>4.611447</td>\n",
              "    </tr>\n",
              "    <tr>\n",
              "      <th>min</th>\n",
              "      <td>15.000000</td>\n",
              "      <td>0.000000</td>\n",
              "      <td>0.000000</td>\n",
              "      <td>1.000000</td>\n",
              "      <td>1.000000</td>\n",
              "      <td>0.000000</td>\n",
              "      <td>1.000000</td>\n",
              "      <td>1.000000</td>\n",
              "      <td>1.000000</td>\n",
              "      <td>1.000000</td>\n",
              "      <td>1.000000</td>\n",
              "      <td>1.000000</td>\n",
              "      <td>0.000000</td>\n",
              "      <td>3.000000</td>\n",
              "      <td>0.000000</td>\n",
              "      <td>0.000000</td>\n",
              "    </tr>\n",
              "    <tr>\n",
              "      <th>25%</th>\n",
              "      <td>16.000000</td>\n",
              "      <td>2.000000</td>\n",
              "      <td>2.000000</td>\n",
              "      <td>1.000000</td>\n",
              "      <td>1.000000</td>\n",
              "      <td>0.000000</td>\n",
              "      <td>4.000000</td>\n",
              "      <td>3.000000</td>\n",
              "      <td>2.000000</td>\n",
              "      <td>1.000000</td>\n",
              "      <td>1.000000</td>\n",
              "      <td>3.000000</td>\n",
              "      <td>0.000000</td>\n",
              "      <td>8.000000</td>\n",
              "      <td>9.000000</td>\n",
              "      <td>8.000000</td>\n",
              "    </tr>\n",
              "    <tr>\n",
              "      <th>50%</th>\n",
              "      <td>17.000000</td>\n",
              "      <td>3.000000</td>\n",
              "      <td>3.000000</td>\n",
              "      <td>1.000000</td>\n",
              "      <td>2.000000</td>\n",
              "      <td>0.000000</td>\n",
              "      <td>4.000000</td>\n",
              "      <td>3.000000</td>\n",
              "      <td>3.000000</td>\n",
              "      <td>1.000000</td>\n",
              "      <td>2.000000</td>\n",
              "      <td>4.000000</td>\n",
              "      <td>4.000000</td>\n",
              "      <td>11.000000</td>\n",
              "      <td>11.000000</td>\n",
              "      <td>11.000000</td>\n",
              "    </tr>\n",
              "    <tr>\n",
              "      <th>75%</th>\n",
              "      <td>18.000000</td>\n",
              "      <td>4.000000</td>\n",
              "      <td>3.000000</td>\n",
              "      <td>2.000000</td>\n",
              "      <td>2.000000</td>\n",
              "      <td>0.000000</td>\n",
              "      <td>5.000000</td>\n",
              "      <td>4.000000</td>\n",
              "      <td>4.000000</td>\n",
              "      <td>2.000000</td>\n",
              "      <td>3.000000</td>\n",
              "      <td>5.000000</td>\n",
              "      <td>8.000000</td>\n",
              "      <td>13.000000</td>\n",
              "      <td>13.000000</td>\n",
              "      <td>14.000000</td>\n",
              "    </tr>\n",
              "    <tr>\n",
              "      <th>max</th>\n",
              "      <td>22.000000</td>\n",
              "      <td>4.000000</td>\n",
              "      <td>4.000000</td>\n",
              "      <td>4.000000</td>\n",
              "      <td>4.000000</td>\n",
              "      <td>3.000000</td>\n",
              "      <td>5.000000</td>\n",
              "      <td>5.000000</td>\n",
              "      <td>5.000000</td>\n",
              "      <td>5.000000</td>\n",
              "      <td>5.000000</td>\n",
              "      <td>5.000000</td>\n",
              "      <td>75.000000</td>\n",
              "      <td>19.000000</td>\n",
              "      <td>28.000000</td>\n",
              "      <td>24.000000</td>\n",
              "    </tr>\n",
              "  </tbody>\n",
              "</table>\n",
              "</div>\n",
              "      <button class=\"colab-df-convert\" onclick=\"convertToInteractive('df-f989cab5-6e4a-4a6e-9189-18812798739b')\"\n",
              "              title=\"Convert this dataframe to an interactive table.\"\n",
              "              style=\"display:none;\">\n",
              "        \n",
              "  <svg xmlns=\"http://www.w3.org/2000/svg\" height=\"24px\"viewBox=\"0 0 24 24\"\n",
              "       width=\"24px\">\n",
              "    <path d=\"M0 0h24v24H0V0z\" fill=\"none\"/>\n",
              "    <path d=\"M18.56 5.44l.94 2.06.94-2.06 2.06-.94-2.06-.94-.94-2.06-.94 2.06-2.06.94zm-11 1L8.5 8.5l.94-2.06 2.06-.94-2.06-.94L8.5 2.5l-.94 2.06-2.06.94zm10 10l.94 2.06.94-2.06 2.06-.94-2.06-.94-.94-2.06-.94 2.06-2.06.94z\"/><path d=\"M17.41 7.96l-1.37-1.37c-.4-.4-.92-.59-1.43-.59-.52 0-1.04.2-1.43.59L10.3 9.45l-7.72 7.72c-.78.78-.78 2.05 0 2.83L4 21.41c.39.39.9.59 1.41.59.51 0 1.02-.2 1.41-.59l7.78-7.78 2.81-2.81c.8-.78.8-2.07 0-2.86zM5.41 20L4 18.59l7.72-7.72 1.47 1.35L5.41 20z\"/>\n",
              "  </svg>\n",
              "      </button>\n",
              "      \n",
              "  <style>\n",
              "    .colab-df-container {\n",
              "      display:flex;\n",
              "      flex-wrap:wrap;\n",
              "      gap: 12px;\n",
              "    }\n",
              "\n",
              "    .colab-df-convert {\n",
              "      background-color: #E8F0FE;\n",
              "      border: none;\n",
              "      border-radius: 50%;\n",
              "      cursor: pointer;\n",
              "      display: none;\n",
              "      fill: #1967D2;\n",
              "      height: 32px;\n",
              "      padding: 0 0 0 0;\n",
              "      width: 32px;\n",
              "    }\n",
              "\n",
              "    .colab-df-convert:hover {\n",
              "      background-color: #E2EBFA;\n",
              "      box-shadow: 0px 1px 2px rgba(60, 64, 67, 0.3), 0px 1px 3px 1px rgba(60, 64, 67, 0.15);\n",
              "      fill: #174EA6;\n",
              "    }\n",
              "\n",
              "    [theme=dark] .colab-df-convert {\n",
              "      background-color: #3B4455;\n",
              "      fill: #D2E3FC;\n",
              "    }\n",
              "\n",
              "    [theme=dark] .colab-df-convert:hover {\n",
              "      background-color: #434B5C;\n",
              "      box-shadow: 0px 1px 3px 1px rgba(0, 0, 0, 0.15);\n",
              "      filter: drop-shadow(0px 1px 2px rgba(0, 0, 0, 0.3));\n",
              "      fill: #FFFFFF;\n",
              "    }\n",
              "  </style>\n",
              "\n",
              "      <script>\n",
              "        const buttonEl =\n",
              "          document.querySelector('#df-f989cab5-6e4a-4a6e-9189-18812798739b button.colab-df-convert');\n",
              "        buttonEl.style.display =\n",
              "          google.colab.kernel.accessAllowed ? 'block' : 'none';\n",
              "\n",
              "        async function convertToInteractive(key) {\n",
              "          const element = document.querySelector('#df-f989cab5-6e4a-4a6e-9189-18812798739b');\n",
              "          const dataTable =\n",
              "            await google.colab.kernel.invokeFunction('convertToInteractive',\n",
              "                                                     [key], {});\n",
              "          if (!dataTable) return;\n",
              "\n",
              "          const docLinkHtml = 'Like what you see? Visit the ' +\n",
              "            '<a target=\"_blank\" href=https://colab.research.google.com/notebooks/data_table.ipynb>data table notebook</a>'\n",
              "            + ' to learn more about interactive tables.';\n",
              "          element.innerHTML = '';\n",
              "          dataTable['output_type'] = 'display_data';\n",
              "          await google.colab.output.renderOutput(dataTable, element);\n",
              "          const docLink = document.createElement('div');\n",
              "          docLink.innerHTML = docLinkHtml;\n",
              "          element.appendChild(docLink);\n",
              "        }\n",
              "      </script>\n",
              "    </div>\n",
              "  </div>\n",
              "  "
            ]
          },
          "metadata": {},
          "execution_count": 296
        }
      ]
    },
    {
      "cell_type": "markdown",
      "source": [
        "Según los valores que se presentan en la tabla resumen de arriba se observa que hay una inconsistecia en los datos de la variable G3; ya que esta puede tomar valores desde 0 hasta 20 y el valor que estamos observando como máximo es de 24.  "
      ],
      "metadata": {
        "id": "njKRzDqMmqnY"
      }
    },
    {
      "cell_type": "code",
      "source": [
        "Matematicas[Matematicas['G3']==24]\n",
        "Matematicas=Matematicas.drop([87],axis=0)"
      ],
      "metadata": {
        "id": "RJ_LEifYr9LS"
      },
      "execution_count": 297,
      "outputs": []
    },
    {
      "cell_type": "code",
      "source": [
        "Matematicas.dtypes"
      ],
      "metadata": {
        "colab": {
          "base_uri": "https://localhost:8080/"
        },
        "id": "EymDeT6dDcpT",
        "outputId": "ce348a89-1fa2-49c0-8136-bd7900c69ce1"
      },
      "execution_count": 298,
      "outputs": [
        {
          "output_type": "execute_result",
          "data": {
            "text/plain": [
              "school         object\n",
              "sex            object\n",
              "age             int64\n",
              "address        object\n",
              "famsize        object\n",
              "Pstatus        object\n",
              "Medu            int64\n",
              "Fedu            int64\n",
              "Mjob           object\n",
              "Fjob           object\n",
              "reason         object\n",
              "guardian       object\n",
              "traveltime      int64\n",
              "studytime       int64\n",
              "failures        int64\n",
              "schoolsup      object\n",
              "famsup         object\n",
              "paid           object\n",
              "activities     object\n",
              "nursery        object\n",
              "higher         object\n",
              "internet       object\n",
              "romantic       object\n",
              "famrel        float64\n",
              "freetime        int64\n",
              "goout           int64\n",
              "Dalc            int64\n",
              "Walc            int64\n",
              "health        float64\n",
              "absences      float64\n",
              "G1            float64\n",
              "G2              int64\n",
              "G3              int64\n",
              "dtype: object"
            ]
          },
          "metadata": {},
          "execution_count": 298
        }
      ]
    },
    {
      "cell_type": "code",
      "source": [
        "Matematicas['sex'].value_counts() # inconsistencia"
      ],
      "metadata": {
        "colab": {
          "base_uri": "https://localhost:8080/"
        },
        "id": "12jnwhvJjRVi",
        "outputId": "4e06539d-b953-4bc4-f53e-d8bb3acf9560"
      },
      "execution_count": 299,
      "outputs": [
        {
          "output_type": "execute_result",
          "data": {
            "text/plain": [
              "F    198\n",
              "M    179\n",
              "B      1\n",
              "Name: sex, dtype: int64"
            ]
          },
          "metadata": {},
          "execution_count": 299
        }
      ]
    },
    {
      "cell_type": "code",
      "source": [
        "Matematicas['address'].value_counts()"
      ],
      "metadata": {
        "colab": {
          "base_uri": "https://localhost:8080/"
        },
        "id": "YDrdmWbHjkce",
        "outputId": "355f3f9a-0ad8-4bc9-9a01-5ab25d3700db"
      },
      "execution_count": 300,
      "outputs": [
        {
          "output_type": "execute_result",
          "data": {
            "text/plain": [
              "U    295\n",
              "R     83\n",
              "Name: address, dtype: int64"
            ]
          },
          "metadata": {},
          "execution_count": 300
        }
      ]
    },
    {
      "cell_type": "code",
      "source": [
        "Matematicas['school'].value_counts()"
      ],
      "metadata": {
        "colab": {
          "base_uri": "https://localhost:8080/"
        },
        "id": "KGDkRzb4jtoH",
        "outputId": "6b6aa99a-bffd-4411-cedc-6118b6cedd81"
      },
      "execution_count": 301,
      "outputs": [
        {
          "output_type": "execute_result",
          "data": {
            "text/plain": [
              "GP    337\n",
              "MS     41\n",
              "Name: school, dtype: int64"
            ]
          },
          "metadata": {},
          "execution_count": 301
        }
      ]
    },
    {
      "cell_type": "code",
      "source": [
        "Matematicas['activities'].value_counts() # inconsistencia"
      ],
      "metadata": {
        "colab": {
          "base_uri": "https://localhost:8080/"
        },
        "id": "i4Iltw8hj9MG",
        "outputId": "a9f2a3c1-1c99-4274-bed2-21d67727d259"
      },
      "execution_count": 302,
      "outputs": [
        {
          "output_type": "execute_result",
          "data": {
            "text/plain": [
              "no     189\n",
              "yes    188\n",
              "No       1\n",
              "Name: activities, dtype: int64"
            ]
          },
          "metadata": {},
          "execution_count": 302
        }
      ]
    },
    {
      "cell_type": "code",
      "source": [
        "Matematicas['famsize'].value_counts()"
      ],
      "metadata": {
        "colab": {
          "base_uri": "https://localhost:8080/"
        },
        "id": "svirSjwokVBN",
        "outputId": "89037401-86b9-4a1e-c7e8-6d592e1cdcdd"
      },
      "execution_count": 303,
      "outputs": [
        {
          "output_type": "execute_result",
          "data": {
            "text/plain": [
              "GT3    267\n",
              "LE3    111\n",
              "Name: famsize, dtype: int64"
            ]
          },
          "metadata": {},
          "execution_count": 303
        }
      ]
    },
    {
      "cell_type": "code",
      "source": [
        "Matematicas['Mjob'].value_counts()"
      ],
      "metadata": {
        "colab": {
          "base_uri": "https://localhost:8080/"
        },
        "id": "BGYXhbaWkkPW",
        "outputId": "c78b98df-4bd3-44f4-855a-151f3f453751"
      },
      "execution_count": 304,
      "outputs": [
        {
          "output_type": "execute_result",
          "data": {
            "text/plain": [
              "other       132\n",
              "services    100\n",
              "teacher      57\n",
              "at_home      56\n",
              "health       33\n",
              "Name: Mjob, dtype: int64"
            ]
          },
          "metadata": {},
          "execution_count": 304
        }
      ]
    },
    {
      "cell_type": "code",
      "source": [
        "Matematicas['Fjob'].value_counts()"
      ],
      "metadata": {
        "colab": {
          "base_uri": "https://localhost:8080/"
        },
        "id": "brd3LEYwkr23",
        "outputId": "20900aad-6b2a-457f-e6c8-9642056356f9"
      },
      "execution_count": 305,
      "outputs": [
        {
          "output_type": "execute_result",
          "data": {
            "text/plain": [
              "other       205\n",
              "services    107\n",
              "teacher      28\n",
              "at_home      20\n",
              "health       18\n",
              "Name: Fjob, dtype: int64"
            ]
          },
          "metadata": {},
          "execution_count": 305
        }
      ]
    },
    {
      "cell_type": "code",
      "source": [
        "Matematicas['guardian'].value_counts() # inconsistencia"
      ],
      "metadata": {
        "colab": {
          "base_uri": "https://localhost:8080/"
        },
        "id": "XHv-uGBikuhA",
        "outputId": "7fc06f23-541a-4aac-aa6a-d59f6d445da8"
      },
      "execution_count": 306,
      "outputs": [
        {
          "output_type": "execute_result",
          "data": {
            "text/plain": [
              "mother    261\n",
              "father     84\n",
              "other      32\n",
              "Mother      1\n",
              "Name: guardian, dtype: int64"
            ]
          },
          "metadata": {},
          "execution_count": 306
        }
      ]
    },
    {
      "cell_type": "code",
      "source": [
        "Matematicas['schoolsup'].value_counts() # inconsistencia"
      ],
      "metadata": {
        "colab": {
          "base_uri": "https://localhost:8080/"
        },
        "id": "KalGpJSuk5oc",
        "outputId": "5cd3d6ae-c553-405d-a859-69b04d443f27"
      },
      "execution_count": 307,
      "outputs": [
        {
          "output_type": "execute_result",
          "data": {
            "text/plain": [
              "no     327\n",
              "yes     50\n",
              "No       1\n",
              "Name: schoolsup, dtype: int64"
            ]
          },
          "metadata": {},
          "execution_count": 307
        }
      ]
    },
    {
      "cell_type": "code",
      "source": [
        "Matematicas['famsup'].value_counts() # inconsistencia"
      ],
      "metadata": {
        "colab": {
          "base_uri": "https://localhost:8080/"
        },
        "id": "yQXutyYblng4",
        "outputId": "28b2061a-c5cd-459b-9388-5db2c585248e"
      },
      "execution_count": 308,
      "outputs": [
        {
          "output_type": "execute_result",
          "data": {
            "text/plain": [
              "yes    233\n",
              "no     144\n",
              "No       1\n",
              "Name: famsup, dtype: int64"
            ]
          },
          "metadata": {},
          "execution_count": 308
        }
      ]
    },
    {
      "cell_type": "code",
      "source": [
        "Matematicas['nursery'].value_counts() # inconsistencia"
      ],
      "metadata": {
        "colab": {
          "base_uri": "https://localhost:8080/"
        },
        "id": "by9ly4DwluWs",
        "outputId": "7439f828-3195-4564-d684-8ea63991b293"
      },
      "execution_count": 309,
      "outputs": [
        {
          "output_type": "execute_result",
          "data": {
            "text/plain": [
              "yes    301\n",
              "no      75\n",
              "Yes      1\n",
              "No       1\n",
              "Name: nursery, dtype: int64"
            ]
          },
          "metadata": {},
          "execution_count": 309
        }
      ]
    },
    {
      "cell_type": "code",
      "source": [
        "Matematicas['paid'].value_counts() # inconsistencia"
      ],
      "metadata": {
        "colab": {
          "base_uri": "https://localhost:8080/"
        },
        "id": "_6MAN4nul9rk",
        "outputId": "2048c987-fe34-4e7b-c91f-f5ce572d0321"
      },
      "execution_count": 310,
      "outputs": [
        {
          "output_type": "execute_result",
          "data": {
            "text/plain": [
              "no     207\n",
              "yes    170\n",
              "No       1\n",
              "Name: paid, dtype: int64"
            ]
          },
          "metadata": {},
          "execution_count": 310
        }
      ]
    },
    {
      "cell_type": "code",
      "source": [
        "Matematicas['internet'].value_counts() # inconsistencia"
      ],
      "metadata": {
        "colab": {
          "base_uri": "https://localhost:8080/"
        },
        "id": "IEZhy-msmPTs",
        "outputId": "f4e52fe2-1660-41ce-8828-b2439a79113a"
      },
      "execution_count": 311,
      "outputs": [
        {
          "output_type": "execute_result",
          "data": {
            "text/plain": [
              "yes    315\n",
              "no      62\n",
              "No       1\n",
              "Name: internet, dtype: int64"
            ]
          },
          "metadata": {},
          "execution_count": 311
        }
      ]
    },
    {
      "cell_type": "code",
      "source": [
        "# Solución\n",
        "Matematicas['G2'] = Matematicas['G2'].astype(int)\n",
        "Matematicas[Matematicas['sex']=='B']\n",
        "Matematicas=Matematicas.drop([295],axis=0)"
      ],
      "metadata": {
        "id": "CuWVt_2arQRW"
      },
      "execution_count": 312,
      "outputs": []
    },
    {
      "cell_type": "code",
      "source": [
        "Matematicas['sex'].value_counts()"
      ],
      "metadata": {
        "colab": {
          "base_uri": "https://localhost:8080/"
        },
        "id": "0hraLy0Vql4i",
        "outputId": "efed2e9a-54a5-4434-bb40-b4b571400da4"
      },
      "execution_count": 313,
      "outputs": [
        {
          "output_type": "execute_result",
          "data": {
            "text/plain": [
              "F    198\n",
              "M    179\n",
              "Name: sex, dtype: int64"
            ]
          },
          "metadata": {},
          "execution_count": 313
        }
      ]
    },
    {
      "cell_type": "code",
      "source": [
        "Matematicas['internet']=Matematicas['internet'].str.lower()\n",
        "Matematicas['paid']=Matematicas['paid'].str.lower() \n",
        "Matematicas['nursery']=Matematicas['nursery'].str.lower() \n",
        "Matematicas['famsup']=Matematicas['famsup'].str.lower() \n",
        "Matematicas['schoolsup']=Matematicas['schoolsup'].str.lower() \n",
        "Matematicas['guardian']=Matematicas['guardian'].str.lower() \n",
        "Matematicas['activities']=Matematicas['activities'].str.lower() "
      ],
      "metadata": {
        "id": "ML7zNucMkjuI"
      },
      "execution_count": 314,
      "outputs": []
    },
    {
      "cell_type": "markdown",
      "source": [
        "### Discretización"
      ],
      "metadata": {
        "id": "rdG6fWNDGVlt"
      }
    },
    {
      "cell_type": "code",
      "source": [
        "Matematicas['G3D'] = pd.qcut(Matematicas['G3'], q=5, precision=1)\n",
        "Matematicas['G3D'] .value_counts()"
      ],
      "metadata": {
        "colab": {
          "base_uri": "https://localhost:8080/"
        },
        "id": "yje4E_tHije1",
        "outputId": "a605d291-b8cf-429d-f371-9728f6c5d2f8"
      },
      "execution_count": 315,
      "outputs": [
        {
          "output_type": "execute_result",
          "data": {
            "text/plain": [
              "(-0.1, 8.0]     96\n",
              "(10.0, 12.0]    77\n",
              "(8.0, 10.0]     76\n",
              "(14.0, 20.0]    71\n",
              "(12.0, 14.0]    57\n",
              "Name: G3D, dtype: int64"
            ]
          },
          "metadata": {},
          "execution_count": 315
        }
      ]
    },
    {
      "cell_type": "code",
      "source": [
        "Matematicas['G3D'] = pd.qcut(Matematicas['G3'], q=5, precision=1,labels=['Deficiente', 'Bajo', 'Medio', 'Alto','Superior' ])\n",
        "Matematicas['G3D'] .value_counts()"
      ],
      "metadata": {
        "colab": {
          "base_uri": "https://localhost:8080/"
        },
        "id": "BRDbhNl6H_49",
        "outputId": "f995bbaf-901d-47cd-8d0e-768b8ab253a3"
      },
      "execution_count": 316,
      "outputs": [
        {
          "output_type": "execute_result",
          "data": {
            "text/plain": [
              "Deficiente    96\n",
              "Medio         77\n",
              "Bajo          76\n",
              "Superior      71\n",
              "Alto          57\n",
              "Name: G3D, dtype: int64"
            ]
          },
          "metadata": {},
          "execution_count": 316
        }
      ]
    },
    {
      "cell_type": "code",
      "source": [
        "sns.barplot(data = Matematicas,\n",
        "            estimator = sum,\n",
        "            x = \"G3D\", \n",
        "            y = \"G3\",\n",
        "            ci = None)"
      ],
      "metadata": {
        "colab": {
          "base_uri": "https://localhost:8080/",
          "height": 298
        },
        "id": "znSHBQi0aaLy",
        "outputId": "52f2e3c0-61af-428e-b0e4-01795d62ffa2"
      },
      "execution_count": 317,
      "outputs": [
        {
          "output_type": "execute_result",
          "data": {
            "text/plain": [
              "<matplotlib.axes._subplots.AxesSubplot at 0x7ff572fbe3d0>"
            ]
          },
          "metadata": {},
          "execution_count": 317
        },
        {
          "output_type": "display_data",
          "data": {
            "text/plain": [
              "<Figure size 432x288 with 1 Axes>"
            ],
            "image/png": "[encoded data removed]"
          },
          "metadata": {
            "needs_background": "light"
          }
        }
      ]
    },
    {
      "cell_type": "markdown",
      "source": [
        "- En total la base de datos posee sólo 16 valores faltantes distribuidos en 13 variables, en las cuales se presentan máximo 2 datos faltantes. Estos datos se eliminan de la base con el fin de continuar con el análisis.\n",
        "- No se presenta duplicidad de datos en las observaciones de la data, por otro lado el formato de G1 es entero no float; pero además de esto todos los formatos están correctamente asignados a las variables. En adición se encontraron variables categóricas no estandarizadas es decir que tenían categorías identicas pero su escritura difería.\n",
        "- Se categorizó el rendimiento de los estudiantes en la prueba según 5 agrupaciones:\n",
        "-- Deficiente: 0-8\n",
        "-- Bajo: 9-10\n",
        "-- Medio: 11-12\n",
        "-- Alto: 13-14\n",
        "-- Superior: 15-20\n"
      ],
      "metadata": {
        "id": "ciNlAx4E7FaU"
      }
    },
    {
      "cell_type": "markdown",
      "source": [
        "## 2.\tRealice un análisis exploratorio sobre las variables que considere son relevantes para el modelo, teniendo en cuenta el tipo de variable, es decir, si es cuantitativa o cualitativa/categórica. Mencione al final de punto las variables considera que son relevantes para el modelo y escoja 5 según dichos criterios.\n"
      ],
      "metadata": {
        "id": "2z751f_KvscT"
      }
    },
    {
      "cell_type": "code",
      "source": [
        "sns.barplot(data = Matematicas,\n",
        "            estimator = sum,\n",
        "            x = \"G3D\", \n",
        "            y = \"G3\",\n",
        "            hue = \"sex\",\n",
        "            ci = None)"
      ],
      "metadata": {
        "colab": {
          "base_uri": "https://localhost:8080/",
          "height": 296
        },
        "id": "u7zqeO8qisrD",
        "outputId": "80dea858-d0b5-4461-87c6-2070400e7130"
      },
      "execution_count": 318,
      "outputs": [
        {
          "output_type": "execute_result",
          "data": {
            "text/plain": [
              "<matplotlib.axes._subplots.AxesSubplot at 0x7ff573188a90>"
            ]
          },
          "metadata": {},
          "execution_count": 318
        },
        {
          "output_type": "display_data",
          "data": {
            "text/plain": [
              "<Figure size 432x288 with 1 Axes>"
            ],
            "image/png": "[encoded data removed]"
          },
          "metadata": {
            "needs_background": "light"
          }
        }
      ]
    },
    {
      "cell_type": "markdown",
      "source": [
        "Según el gráfico se puede identificar que las mujeres son las que obtuvieron mayores notas en matemáticas. Esto se vé en estudiantes con rendimiento deficiente, bajo, medio y alto."
      ],
      "metadata": {
        "id": "ph1BgNiA21G7"
      }
    },
    {
      "cell_type": "code",
      "source": [
        "sns.barplot(data = Matematicas,\n",
        "            estimator = sum,\n",
        "            x = \"G3D\", \n",
        "            y = \"G3\",\n",
        "            hue = \"internet\",\n",
        "            ci = None)"
      ],
      "metadata": {
        "colab": {
          "base_uri": "https://localhost:8080/",
          "height": 296
        },
        "id": "8-zA4JbkwY4x",
        "outputId": "79956e05-4485-4a26-b7c5-4b95263912c9"
      },
      "execution_count": 319,
      "outputs": [
        {
          "output_type": "execute_result",
          "data": {
            "text/plain": [
              "<matplotlib.axes._subplots.AxesSubplot at 0x7ff572ea8350>"
            ]
          },
          "metadata": {},
          "execution_count": 319
        },
        {
          "output_type": "display_data",
          "data": {
            "text/plain": [
              "<Figure size 432x288 with 1 Axes>"
            ],
            "image/png": "[encoded data removed]"
          },
          "metadata": {
            "needs_background": "light"
          }
        }
      ]
    },
    {
      "cell_type": "markdown",
      "source": [
        "El tener internet en casa parece ser una varibale importante en el desempeño académico de los estudiantes de los colegios, ya que cuando ésto poseen internet en sus cass obtienen en general mayores notas que cuando noposeen este recurso. "
      ],
      "metadata": {
        "id": "3BaFppMV3mEB"
      }
    },
    {
      "cell_type": "code",
      "source": [
        "sns.barplot(data = Matematicas,\n",
        "            estimator = sum,\n",
        "            x = \"G3D\", \n",
        "            y = \"absences\",\n",
        "            ci = None)"
      ],
      "metadata": {
        "colab": {
          "base_uri": "https://localhost:8080/",
          "height": 299
        },
        "id": "D9ia6S9fx8s9",
        "outputId": "53987e4f-abc3-4ae7-e865-7a2b5821afb7"
      },
      "execution_count": 320,
      "outputs": [
        {
          "output_type": "execute_result",
          "data": {
            "text/plain": [
              "<matplotlib.axes._subplots.AxesSubplot at 0x7ff572e26990>"
            ]
          },
          "metadata": {},
          "execution_count": 320
        },
        {
          "output_type": "display_data",
          "data": {
            "text/plain": [
              "<Figure size 432x288 with 1 Axes>"
            ],
            "image/png": "[encoded data removed]"
          },
          "metadata": {
            "needs_background": "light"
          }
        }
      ]
    },
    {
      "cell_type": "markdown",
      "source": [
        "De este comportamiento se tiene que los estuadiante scon rendimiento deficiente son los que poseen una myor cantidal de ausencias en comparaicón con los que poseen un rendimeinto acadpemico superior en el área de matemáticas. "
      ],
      "metadata": {
        "id": "NN90ac5934FF"
      }
    },
    {
      "cell_type": "code",
      "source": [
        "sns.scatterplot(data=Matematicas,  x=\"G3\", y=\"G1\") "
      ],
      "metadata": {
        "colab": {
          "base_uri": "https://localhost:8080/",
          "height": 296
        },
        "id": "4TCkmkJ40dfQ",
        "outputId": "519b5776-bc3f-4923-fb9f-9564f6e7f871"
      },
      "execution_count": 321,
      "outputs": [
        {
          "output_type": "execute_result",
          "data": {
            "text/plain": [
              "<matplotlib.axes._subplots.AxesSubplot at 0x7ff572d96850>"
            ]
          },
          "metadata": {},
          "execution_count": 321
        },
        {
          "output_type": "display_data",
          "data": {
            "text/plain": [
              "<Figure size 432x288 with 1 Axes>"
            ],
            "image/png": "[encoded data removed]"
          },
          "metadata": {
            "needs_background": "light"
          }
        }
      ]
    },
    {
      "cell_type": "code",
      "source": [
        "sns.scatterplot(data=Matematicas,  x=\"G3\", y=\"G2\") "
      ],
      "metadata": {
        "colab": {
          "base_uri": "https://localhost:8080/",
          "height": 296
        },
        "id": "yUO4PGU61aRp",
        "outputId": "6d77e9b6-94bf-4c41-b306-a422d4bf4dad"
      },
      "execution_count": 322,
      "outputs": [
        {
          "output_type": "execute_result",
          "data": {
            "text/plain": [
              "<matplotlib.axes._subplots.AxesSubplot at 0x7ff572d5a450>"
            ]
          },
          "metadata": {},
          "execution_count": 322
        },
        {
          "output_type": "display_data",
          "data": {
            "text/plain": [
              "<Figure size 432x288 with 1 Axes>"
            ],
            "image/png": "[encoded data removed]"
          },
          "metadata": {
            "needs_background": "light"
          }
        }
      ]
    },
    {
      "cell_type": "markdown",
      "source": [
        "Como ya se especificó anteriormente hay una fuerte correlación entre las notas G1 y G2 con la variable respuesta G3."
      ],
      "metadata": {
        "id": "Ti_C9tJO7V33"
      }
    },
    {
      "cell_type": "code",
      "source": [
        "sns.barplot(data = Matematicas,\n",
        "            estimator = sum,\n",
        "            x = \"studytime\", \n",
        "            y = \"G3\",\n",
        "            ci = None)"
      ],
      "metadata": {
        "colab": {
          "base_uri": "https://localhost:8080/",
          "height": 296
        },
        "id": "cT98lRWl2Chd",
        "outputId": "731ae9c6-e99f-4c99-ed83-8cfc771754e2"
      },
      "execution_count": 323,
      "outputs": [
        {
          "output_type": "execute_result",
          "data": {
            "text/plain": [
              "<matplotlib.axes._subplots.AxesSubplot at 0x7ff572d0d550>"
            ]
          },
          "metadata": {},
          "execution_count": 323
        },
        {
          "output_type": "display_data",
          "data": {
            "text/plain": [
              "<Figure size 432x288 with 1 Axes>"
            ],
            "image/png": "[encoded data removed]"
          },
          "metadata": {
            "needs_background": "light"
          }
        }
      ]
    },
    {
      "cell_type": "markdown",
      "source": [
        "Cuando los estudiantes poseen tiempo de estudio entre 2 a 5 horas logran obtener mejores calificaciones en la signatura de matemáticas en comparación que cuando utilizan otros tiempos. "
      ],
      "metadata": {
        "id": "k1dG-XtH4yqS"
      }
    },
    {
      "cell_type": "markdown",
      "source": [
        "Como resultado de este análisis las variables propuestas para la estimación de los modelos son las siguientes:\n",
        "- Sexo\n",
        "- Internet\n",
        "- Tiempo de estudio.\n",
        "- G1\n",
        "- G2\n"
      ],
      "metadata": {
        "id": "V9s3YYdZ4PFi"
      }
    },
    {
      "cell_type": "code",
      "source": [
        "# Variabe Respuesta\n",
        "y = Matematicas['G3D']\n",
        "# Variabe Explicativas\n",
        "x1 = Matematicas[['G1', 'G2']]\n",
        "x2 = pd.get_dummies(Matematicas[['sex','internet']], drop_first=True)\n",
        "x3 = pd.get_dummies(Matematicas['studytime'], drop_first=True)\n",
        "x = pd.concat([x1, x2, x3], axis=1)"
      ],
      "metadata": {
        "id": "FrlXdysjtP49"
      },
      "execution_count": 324,
      "outputs": []
    },
    {
      "cell_type": "markdown",
      "source": [
        "## 3.\tSeleccione un algoritmo de regresión clasificación según le corresponda (lineal, logístico o lasso o ridge) teniendo en cuenta lo siguiente:\n",
        "- Estime el modelo utilizando las variables previamente seleccionadas utilizando todo el dataset. Varíe 2 de los parámetros del modelo en 3 posibles valores para cada uno."
      ],
      "metadata": {
        "id": "78jSPYOJvtY2"
      }
    },
    {
      "cell_type": "code",
      "source": [
        "from sklearn.linear_model import LogisticRegression\n",
        "y = Matematicas['G3D']\n",
        "lassoreg1 = LogisticRegression(C=0.001, penalty='l1',max_iter=10000,solver='liblinear')\n",
        "lassoreg1.fit(x, y)\n",
        "pre1 =lassoreg1.predict(x)\n",
        "from sklearn import metrics\n",
        "print('Accuracy',metrics.accuracy_score(y,pre1))\n",
        "print('Precision',metrics.precision_score(y,pre1,average='macro'))"
      ],
      "metadata": {
        "colab": {
          "base_uri": "https://localhost:8080/"
        },
        "id": "cDgFUoXWzK8x",
        "outputId": "6eac749e-9512-4c2b-e6af-5a7ecadc19a9"
      },
      "execution_count": 350,
      "outputs": [
        {
          "output_type": "stream",
          "name": "stdout",
          "text": [
            "Accuracy 0.22281167108753316\n",
            "Precision 0.239010989010989\n"
          ]
        },
        {
          "output_type": "stream",
          "name": "stderr",
          "text": [
            "/usr/local/lib/python3.7/dist-packages/sklearn/utils/validation.py:1692: FutureWarning: Feature names only support names that are all strings. Got feature names with dtypes: ['int', 'str']. An error will be raised in 1.2.\n",
            "  FutureWarning,\n",
            "/usr/local/lib/python3.7/dist-packages/sklearn/utils/validation.py:1692: FutureWarning: Feature names only support names that are all strings. Got feature names with dtypes: ['int', 'str']. An error will be raised in 1.2.\n",
            "  FutureWarning,\n",
            "/usr/local/lib/python3.7/dist-packages/sklearn/metrics/_classification.py:1318: UndefinedMetricWarning: Precision is ill-defined and being set to 0.0 in labels with no predicted samples. Use `zero_division` parameter to control this behavior.\n",
            "  _warn_prf(average, modifier, msg_start, len(result))\n"
          ]
        }
      ]
    },
    {
      "cell_type": "code",
      "source": [
        "lassoreg2 = LogisticRegression(C=0.1, penalty='l1',max_iter=1000000,solver='liblinear')\n",
        "lassoreg2.fit(x, y)\n",
        "pre2 =lassoreg2.predict(x)\n",
        "print('Accuracy',metrics.accuracy_score(y,pre2))\n",
        "print('Precision',metrics.precision_score(y,pre2,average='macro'))"
      ],
      "metadata": {
        "colab": {
          "base_uri": "https://localhost:8080/"
        },
        "id": "BFKE34sIzMxw",
        "outputId": "4333ab77-ee41-40d2-c18f-d784fc9142ef"
      },
      "execution_count": 351,
      "outputs": [
        {
          "output_type": "stream",
          "name": "stdout",
          "text": [
            "Accuracy 0.53315649867374\n",
            "Precision 0.3946539404370729\n"
          ]
        },
        {
          "output_type": "stream",
          "name": "stderr",
          "text": [
            "/usr/local/lib/python3.7/dist-packages/sklearn/utils/validation.py:1692: FutureWarning: Feature names only support names that are all strings. Got feature names with dtypes: ['int', 'str']. An error will be raised in 1.2.\n",
            "  FutureWarning,\n",
            "/usr/local/lib/python3.7/dist-packages/sklearn/utils/validation.py:1692: FutureWarning: Feature names only support names that are all strings. Got feature names with dtypes: ['int', 'str']. An error will be raised in 1.2.\n",
            "  FutureWarning,\n",
            "/usr/local/lib/python3.7/dist-packages/sklearn/metrics/_classification.py:1318: UndefinedMetricWarning: Precision is ill-defined and being set to 0.0 in labels with no predicted samples. Use `zero_division` parameter to control this behavior.\n",
            "  _warn_prf(average, modifier, msg_start, len(result))\n"
          ]
        }
      ]
    },
    {
      "cell_type": "code",
      "source": [
        "lassoreg3 = LogisticRegression(C=0.00001, penalty='l1',max_iter=1000,solver='liblinear')\n",
        "lassoreg3.fit(x, y)\n",
        "pre3 =lassoreg3.predict(x)\n",
        "print('Accuracy',metrics.accuracy_score(y,pre3))\n",
        "print('Precision',metrics.precision_score(y,pre3,average='macro'))"
      ],
      "metadata": {
        "colab": {
          "base_uri": "https://localhost:8080/"
        },
        "id": "npcYM9t6zNY4",
        "outputId": "2384c8aa-5195-40e9-e103-2aa9ba8d56fa"
      },
      "execution_count": 354,
      "outputs": [
        {
          "output_type": "stream",
          "name": "stdout",
          "text": [
            "Accuracy 0.15119363395225463\n",
            "Precision 0.030238726790450927\n"
          ]
        },
        {
          "output_type": "stream",
          "name": "stderr",
          "text": [
            "/usr/local/lib/python3.7/dist-packages/sklearn/utils/validation.py:1692: FutureWarning: Feature names only support names that are all strings. Got feature names with dtypes: ['int', 'str']. An error will be raised in 1.2.\n",
            "  FutureWarning,\n",
            "/usr/local/lib/python3.7/dist-packages/sklearn/utils/validation.py:1692: FutureWarning: Feature names only support names that are all strings. Got feature names with dtypes: ['int', 'str']. An error will be raised in 1.2.\n",
            "  FutureWarning,\n",
            "/usr/local/lib/python3.7/dist-packages/sklearn/metrics/_classification.py:1318: UndefinedMetricWarning: Precision is ill-defined and being set to 0.0 in labels with no predicted samples. Use `zero_division` parameter to control this behavior.\n",
            "  _warn_prf(average, modifier, msg_start, len(result))\n"
          ]
        }
      ]
    },
    {
      "cell_type": "markdown",
      "source": [
        "\n",
        "-\tEstime el modelo utilizando únicamente una partición de entrenamiento (80%) and test (20%). Varíe 2 de los parámetros del modelo en 3 posibles valores para cada uno."
      ],
      "metadata": {
        "id": "TdFB76z1vuW_"
      }
    },
    {
      "cell_type": "code",
      "source": [
        "# Partición.\n",
        "from sklearn.model_selection import train_test_split\n",
        "X_train, X_test, y_train, y_test = train_test_split(x, y, test_size=0.2 ,random_state=101010)"
      ],
      "metadata": {
        "id": "5ZvO5WtM0jf5"
      },
      "execution_count": 355,
      "outputs": []
    },
    {
      "cell_type": "code",
      "source": [
        "# Estimación de los modelos.\n",
        "# Modelo 1\n",
        "lassoreg1.fit(X_train, y_train)\n",
        "pre1 =lassoreg1.predict(X_test)\n",
        "print('Accuracy mod1',metrics.accuracy_score(y_test,pre1))\n",
        "print('Precision mod1',metrics.precision_score(y_test,pre1,average='macro'))\n",
        "# Modelo 2\n",
        "lassoreg2.fit(X_train, y_train)\n",
        "pre2 =lassoreg2.predict(X_test)\n",
        "print('Accuracy mod2',metrics.accuracy_score(y_test,pre2))\n",
        "print('Precision mod2',metrics.precision_score(y_test,pre2,average='macro'))\n",
        "# Modelo 3\n",
        "lassoreg3.fit(X_train, y_train)\n",
        "pre3 =lassoreg3.predict(X_test)\n",
        "print('Accuracy mod3',metrics.accuracy_score(y_test,pre3))\n",
        "print('Precision mod3',metrics.precision_score(y_test,pre3,average='macro'))"
      ],
      "metadata": {
        "id": "xmzy9F5u1UG5",
        "colab": {
          "base_uri": "https://localhost:8080/"
        },
        "outputId": "d8958aaf-8d77-4632-fb39-57633de5428c"
      },
      "execution_count": 357,
      "outputs": [
        {
          "output_type": "stream",
          "name": "stdout",
          "text": [
            "Accuracy mod1 0.19736842105263158\n",
            "Precision mod1 0.23513513513513512\n",
            "Accuracy mod2 0.5526315789473685\n",
            "Precision mod2 0.3472258064516129\n",
            "Accuracy mod3 0.17105263157894737\n",
            "Precision mod3 0.034210526315789476\n"
          ]
        },
        {
          "output_type": "stream",
          "name": "stderr",
          "text": [
            "/usr/local/lib/python3.7/dist-packages/sklearn/utils/validation.py:1692: FutureWarning: Feature names only support names that are all strings. Got feature names with dtypes: ['int', 'str']. An error will be raised in 1.2.\n",
            "  FutureWarning,\n",
            "/usr/local/lib/python3.7/dist-packages/sklearn/utils/validation.py:1692: FutureWarning: Feature names only support names that are all strings. Got feature names with dtypes: ['int', 'str']. An error will be raised in 1.2.\n",
            "  FutureWarning,\n",
            "/usr/local/lib/python3.7/dist-packages/sklearn/metrics/_classification.py:1318: UndefinedMetricWarning: Precision is ill-defined and being set to 0.0 in labels with no predicted samples. Use `zero_division` parameter to control this behavior.\n",
            "  _warn_prf(average, modifier, msg_start, len(result))\n",
            "/usr/local/lib/python3.7/dist-packages/sklearn/utils/validation.py:1692: FutureWarning: Feature names only support names that are all strings. Got feature names with dtypes: ['int', 'str']. An error will be raised in 1.2.\n",
            "  FutureWarning,\n",
            "/usr/local/lib/python3.7/dist-packages/sklearn/utils/validation.py:1692: FutureWarning: Feature names only support names that are all strings. Got feature names with dtypes: ['int', 'str']. An error will be raised in 1.2.\n",
            "  FutureWarning,\n",
            "/usr/local/lib/python3.7/dist-packages/sklearn/metrics/_classification.py:1318: UndefinedMetricWarning: Precision is ill-defined and being set to 0.0 in labels with no predicted samples. Use `zero_division` parameter to control this behavior.\n",
            "  _warn_prf(average, modifier, msg_start, len(result))\n",
            "/usr/local/lib/python3.7/dist-packages/sklearn/utils/validation.py:1692: FutureWarning: Feature names only support names that are all strings. Got feature names with dtypes: ['int', 'str']. An error will be raised in 1.2.\n",
            "  FutureWarning,\n",
            "/usr/local/lib/python3.7/dist-packages/sklearn/utils/validation.py:1692: FutureWarning: Feature names only support names that are all strings. Got feature names with dtypes: ['int', 'str']. An error will be raised in 1.2.\n",
            "  FutureWarning,\n",
            "/usr/local/lib/python3.7/dist-packages/sklearn/metrics/_classification.py:1318: UndefinedMetricWarning: Precision is ill-defined and being set to 0.0 in labels with no predicted samples. Use `zero_division` parameter to control this behavior.\n",
            "  _warn_prf(average, modifier, msg_start, len(result))\n"
          ]
        }
      ]
    },
    {
      "cell_type": "markdown",
      "source": [
        "- Estime el modelo, utilizando la partición anterior, pero en la partición de entrenamiento utilizar un K Fold Cross Validation (k=5 y k=10)."
      ],
      "metadata": {
        "id": "gCN7dDQU2YnZ"
      }
    },
    {
      "cell_type": "code",
      "source": [
        "from sklearn.model_selection import KFold\n",
        "from sklearn.model_selection import cross_val_score\n",
        "# Kfold 5\n",
        "cv15 = KFold(n_splits=5, random_state=1129, shuffle=True) \n",
        "scores15a = cross_val_score(lassoreg1,X_train, y_train, scoring='accuracy', cv=cv15, n_jobs=-1)\n",
        "scores15p = cross_val_score(lassoreg1,X_train, y_train, scoring='precision', cv=cv15, n_jobs=-1)\n",
        "\n",
        "cv25 = KFold(n_splits=5, random_state=1129, shuffle=True) \n",
        "scores25a = cross_val_score(lassoreg3,X_train, y_train, scoring='accuracy', cv=cv25, n_jobs=-1)\n",
        "scores25p = cross_val_score(lassoreg3,X_train, y_train, scoring='precision', cv=cv25, n_jobs=-1)\n",
        "\n",
        "cv35 = KFold(n_splits=5, random_state=1129, shuffle=True) \n",
        "scores35a = cross_val_score(lassoreg3,X_train, y_train, scoring='accuracy', cv=cv35, n_jobs=-1)\n",
        "scores35p = cross_val_score(lassoreg3,X_train, y_train, scoring='precision', cv=cv35, n_jobs=-1)\n",
        "\n",
        "# Kfold 10\n",
        "cv110 = KFold(n_splits=10, random_state=1129, shuffle=True) \n",
        "scores110a = cross_val_score(lassoreg1,X_train, y_train, scoring='accuracy', cv=cv110, n_jobs=-1)\n",
        "scores110p = cross_val_score(lassoreg1,X_train, y_train, scoring='precision', cv=cv110, n_jobs=-1)\n",
        "\n",
        "cv210 = KFold(n_splits=10, random_state=1129, shuffle=True) \n",
        "scores210a = cross_val_score(lassoreg3,X_train, y_train, scoring='accuracy', cv=cv210, n_jobs=-1)\n",
        "scores210p = cross_val_score(lassoreg3,X_train, y_train, scoring='precision', cv=cv210, n_jobs=-1)\n",
        "\n",
        "cv310 = KFold(n_splits=10, random_state=1129, shuffle=True) \n",
        "scores310a = cross_val_score(lassoreg3,X_train, y_train, scoring='accuracy', cv=cv310, n_jobs=-1)\n",
        "scores310p = cross_val_score(lassoreg3,X_train, y_train, scoring='precision', cv=cv310, n_jobs=-1)"
      ],
      "metadata": {
        "id": "X02X9mRkSyi9"
      },
      "execution_count": 360,
      "outputs": []
    },
    {
      "cell_type": "markdown",
      "source": [
        "\n",
        "-\tPara cada uno de los anteriores puntos, seleccionar dos métricas y evaluar los modelos teniendo en cuenta que el resultado a presentar y analizar será en la partición de test."
      ],
      "metadata": {
        "id": "TxIIJXkMvu6m"
      }
    },
    {
      "cell_type": "markdown",
      "source": [
        "## 4.\tAnalice\n",
        "- ¿Cuál fue el mejor modelo según las métricas anteriormente mencionadas?\n",
        "-\tDe la respuesta anterior ¿Qué valores de los parámetros se seleccionaron para lograr dicho resultado?\n",
        "- Analice los coeficientes del modelo final seleccionado\n"
      ],
      "metadata": {
        "id": "kawqbVSPwU33"
      }
    }
  ]
}